{
 "cells": [
  {
   "cell_type": "code",
   "execution_count": null,
   "id": "0cb355d3-8452-4f36-a1ae-4b3914639916",
   "metadata": {},
   "outputs": [],
   "source": [
    "import tensorflow as tf\n",
    "tf.__version__"
   ]
  },
  {
   "cell_type": "code",
   "execution_count": null,
   "id": "2ccb89ad-30fe-4a7a-b15d-6f4d823cb10f",
   "metadata": {},
   "outputs": [],
   "source": [
    "import os\n",
    "os.environ[\"CUDA_VISIBLE_DEVICES\"]=\"2,3\""
   ]
  },
  {
   "cell_type": "code",
   "execution_count": null,
   "id": "0ef31ca2-f029-4db2-870f-67ba6487dd82",
   "metadata": {},
   "outputs": [],
   "source": [
    "from tensorflow.python.client import device_lib\n",
    "print(device_lib.list_local_devices())"
   ]
  },
  {
   "cell_type": "code",
   "execution_count": null,
   "id": "9402c597-4070-4450-a1b1-cdeb3ce696ba",
   "metadata": {},
   "outputs": [],
   "source": [
    "!nvidia-smi"
   ]
  },
  {
   "cell_type": "code",
   "execution_count": null,
   "id": "f656d49a-10f9-4885-9a3c-c6b95ae32ee8",
   "metadata": {},
   "outputs": [],
   "source": [
    "from PIL import Image\n",
    "Image.open(\"train/0/0.png\")"
   ]
  },
  {
   "cell_type": "code",
   "execution_count": null,
   "id": "ded88b9e-2abd-473c-941b-77e5391c4298",
   "metadata": {},
   "outputs": [],
   "source": [
    "import pandas as pd\n",
    "import numpy as np"
   ]
  },
  {
   "cell_type": "code",
   "execution_count": null,
   "id": "c571bf7c-dafc-4438-b6c4-47c2aade9264",
   "metadata": {},
   "outputs": [],
   "source": [
    "hand = pd.read_csv(\"hand_gesture_pose.csv\")\n",
    "hand"
   ]
  },
  {
   "cell_type": "code",
   "execution_count": null,
   "id": "ad8b9c67-35d4-4826-9016-aead1cc961cb",
   "metadata": {},
   "outputs": [],
   "source": [
    "import glob\n",
    "train = pd.DataFrame({\"path\":glob.glob(\"train/*\")})\n",
    "train[\"path\"] = sorted(train[\"path\"].apply(lambda x:int(x.split(\"\\\\\")[1])))\n",
    "train[\"path\"] = train[\"path\"].astype(\"str\") \n",
    "train[\"path\"] = \"train/\" + train[\"path\"] + \"/0.png\"\n",
    "train"
   ]
  },
  {
   "cell_type": "code",
   "execution_count": null,
   "id": "1b35e831-b4e7-414c-b7d7-f1ac8fb0143f",
   "metadata": {},
   "outputs": [],
   "source": [
    "json_df = pd.DataFrame({\"path\":glob.glob(\"train/*/*\")})\n",
    "json_df = json_df[json_df['path'].str.contains(\"json\")]\n",
    "json_df[\"path\"] = sorted(json_df[\"path\"].apply(lambda x:int(x.split(\"\\\\\")[1])))\n",
    "json_df[\"path\"] = json_df[\"path\"].astype(\"str\")\n",
    "json_df[\"path\"] = \"train/\" + json_df[\"path\"] + \"/\" + json_df[\"path\"] + \".json\"\n",
    "json_df"
   ]
  },
  {
   "cell_type": "code",
   "execution_count": null,
   "id": "145527e3-e41b-4bb2-b831-1fc410400657",
   "metadata": {},
   "outputs": [],
   "source": [
    "import json\n",
    "answers = []\n",
    "for i in json_df[\"path\"]:\n",
    "    with open(i) as json_file:\n",
    "        json_data = json.load(json_file)\n",
    "        cat = json_data.get('action')[0]\n",
    "        cat_name = json_data.get('action')[1]\n",
    "        answers.append([cat, cat_name])\n",
    "len(answers)"
   ]
  },
  {
   "cell_type": "code",
   "execution_count": null,
   "id": "69690696-7338-4b56-b4df-bf9109a405af",
   "metadata": {},
   "outputs": [],
   "source": [
    "answers = pd.DataFrame(answers)\n",
    "answers"
   ]
  },
  {
   "cell_type": "code",
   "execution_count": null,
   "id": "3cddd625-066a-427b-9898-342f77e4db15",
   "metadata": {},
   "outputs": [],
   "source": [
    "df = pd.concat([train,answers],axis = 1)\n",
    "df.columns = [\"path\",\"answer\",\"answer_name\"]\n",
    "df[\"answer\"] = df[\"answer\"].astype(\"str\")\n",
    "df[\"path\"] = df[\"path\"].astype(\"str\")\n",
    "df[\"folder\"] = df[\"path\"].apply(lambda x:x.split(\"/\")[1])\n",
    "df"
   ]
  },
  {
   "cell_type": "code",
   "execution_count": null,
   "id": "b7f2cee6-8d1d-45a4-bf27-89b1510e9d2e",
   "metadata": {},
   "outputs": [],
   "source": [
    "new_train_df = pd.DataFrame({\"path\":glob.glob(\"train/*/*.png\")})\n",
    "new_train_df[\"folder\"] = new_train_df[\"path\"].apply(lambda x:x.split(\"\\\\\")[1])\n",
    "new_train_df = new_train_df.merge(df[[\"answer\",\"folder\"]], on = \"folder\", how = \"left\")\n",
    "new_train_df"
   ]
  },
  {
   "cell_type": "code",
   "execution_count": null,
   "id": "7e96e165-9448-43cd-a552-1ec5b93a7774",
   "metadata": {},
   "outputs": [],
   "source": [
    "test = pd.DataFrame({\"path\":glob.glob(\"test/*/*.png\")})\n",
    "test[\"folder\"] = test[\"path\"].apply(lambda x:x.split(\"\\\\\")[1])\n",
    "test[\"folder\"].nunique()"
   ]
  },
  {
   "cell_type": "code",
   "execution_count": null,
   "id": "25874f00-780f-4087-8182-7247131291a4",
   "metadata": {},
   "outputs": [],
   "source": [
    "test"
   ]
  },
  {
   "cell_type": "code",
   "execution_count": null,
   "id": "7d0d02be-932c-4060-bbb0-a48ad4c592d1",
   "metadata": {},
   "outputs": [],
   "source": [
    "test.shape"
   ]
  },
  {
   "cell_type": "code",
   "execution_count": null,
   "id": "fcf965ee-6897-41e5-9bf0-ba4c67435153",
   "metadata": {},
   "outputs": [],
   "source": [
    "from keras import *\n",
    "from keras.layers import *\n",
    "from keras.callbacks import *\n",
    "from keras.applications.efficientnet import EfficientNetB3\n",
    "#from keras.optimizers import adam_v2 \n",
    "import warnings\n",
    "warnings.filterwarnings(action=\"ignore\")\n",
    "import tensorflow as tf\n",
    "from keras.preprocessing.image import ImageDataGenerator\n",
    "from sklearn.model_selection import StratifiedKFold\n",
    "skf = StratifiedKFold(n_splits = 5, shuffle = True, random_state = 82)\n",
    "result = 0\n",
    "\n",
    "for i, (train_index, valid_index) in enumerate(skf.split(new_train_df,new_train_df[\"answer\"])):\n",
    "    X_train = new_train_df.iloc[train_index]\n",
    "    X_valid = new_train_df.iloc[valid_index]\n",
    "    idg = ImageDataGenerator() # zoom_range = 0.4\n",
    "    idg2 = ImageDataGenerator()\n",
    "    idg3 = ImageDataGenerator()\n",
    "    \n",
    "    train_generator = idg.flow_from_dataframe(X_train,x_col = \"path\", y_col = \"answer\", batch_size = 16, target_size=(280,280))   \n",
    "    valid_generator = idg2.flow_from_dataframe(X_valid,x_col = \"path\", y_col = \"answer\", batch_size = 16, target_size=(280,280))\n",
    "    test_generator = idg3.flow_from_dataframe(test, x_col = \"path\", y_col = None, target_size = (280,280), batch_size = 16, class_mode = None, shuffle = False)\n",
    "    \n",
    "    es = EarlyStopping(patience = 5, verbose = 1,restore_best_weights = True)\n",
    "    #mc = ModelCheckpoint(f\"best{i}.h5\",save_best_only = True, verbose = 1) \n",
    "    rl = ReduceLROnPlateau(patience = 3, verbose = 1,factor = 0.25)\n",
    "    model = Sequential()\n",
    "    efficient = EfficientNetB3(include_top = False, weights = \"imagenet\", pooling = \"avg\")\n",
    "    model.add(efficient)\n",
    "    model.add(Dense(157,activation = \"softmax\"))\n",
    "    model.compile(metrics = [\"acc\"], optimizer = \"adam\", loss = \"categorical_crossentropy\")\n",
    "    model.fit(train_generator, validation_data = valid_generator, epochs = 100, callbacks = [es,rl],verbose = 1) #, steps_per_epoch=1, validation_steps = 1\n",
    "    \n",
    "    result += model.predict(test_generator, verbose = 1) / 5\n",
    "    "
   ]
  },
  {
   "cell_type": "code",
   "execution_count": null,
   "id": "450525da-0b5c-429b-b796-5cbe9424649f",
   "metadata": {},
   "outputs": [],
   "source": [
    "train_index = list(train_generator.class_indices)"
   ]
  },
  {
   "cell_type": "code",
   "execution_count": null,
   "id": "6ffcd42a-84cb-4dea-912a-7105c69b9e1f",
   "metadata": {},
   "outputs": [],
   "source": [
    "sub_path = [\"Image_Path\"]  +  [\"Label_\" + x for x in train_index] "
   ]
  },
  {
   "cell_type": "code",
   "execution_count": null,
   "id": "321eb5d6-4625-4cf2-b09f-7443936cc344",
   "metadata": {},
   "outputs": [],
   "source": [
    "result_df = pd.DataFrame(result)\n",
    "result_df"
   ]
  },
  {
   "cell_type": "code",
   "execution_count": null,
   "id": "6fc63023-ff79-4f79-9240-c227d3eb11a1",
   "metadata": {},
   "outputs": [],
   "source": [
    "result_df[\"folder\"] = test[\"folder\"]"
   ]
  },
  {
   "cell_type": "code",
   "execution_count": null,
   "id": "96f8f84d-b24b-4035-8d80-f030f041bc77",
   "metadata": {},
   "outputs": [],
   "source": [
    "test.shape, result.shape"
   ]
  },
  {
   "cell_type": "code",
   "execution_count": null,
   "id": "0729f766-df68-4ab1-b955-48cc67f5f81b",
   "metadata": {},
   "outputs": [],
   "source": [
    "result_df[\"folder\"].nunique()"
   ]
  },
  {
   "cell_type": "code",
   "execution_count": null,
   "id": "ac660a4d-bb57-4015-afa9-815219a96e4b",
   "metadata": {},
   "outputs": [],
   "source": [
    "result_df_array = np.array(result_df.groupby(\"folder\").mean())\n",
    "result_df_array.shape"
   ]
  },
  {
   "cell_type": "code",
   "execution_count": null,
   "id": "72b4ddf4-6066-430f-86e0-3186f497a883",
   "metadata": {},
   "outputs": [],
   "source": [
    "result.shape"
   ]
  },
  {
   "cell_type": "code",
   "execution_count": null,
   "id": "70bc91c1-d804-4c21-b1bb-b61d78e5c359",
   "metadata": {},
   "outputs": [],
   "source": [
    "pd.options.display.max_columns = 9999\n",
    "sub = pd.read_csv(\"sample_submission.csv\")\n",
    "sub"
   ]
  },
  {
   "cell_type": "code",
   "execution_count": null,
   "id": "84a80e91-89a1-462d-be91-9a652c533e50",
   "metadata": {},
   "outputs": [],
   "source": [
    "a = [[\"Image_Path\",\"Label_0\",\"Label_1\",\"Label_2\",'Label_3',\"Label_4\",\"Label_5\",\"Label_6\",\"Label_7\",\"Label_8\",\"Label_9\",\"Label_10\",\"Label_11\",\"Label_12\",\"Label_13\",\"Label_14\",\"Label_15\",\"Label_16\",\"Label_17\",\"Label_18\",\"Label_19\",\"Label_22\",\"Label_23\",\"Label_25\",\"Label_26\",\"Label_27\",\"Label_28\",\"Label_29\",\"Label_31\",\"Label_32\",\"Label_34\",\"Label_35\",\"Label_36\",\"Label_37\",\"Label_39\",\"Label_40\",\"Label_41\",\"Label_42\",\"Label_43\",\"Label_44\",\"Label_47\",\"Label_48\",\"Label_49\",\"Label_50\",\"Label_51\",\"Label_53\",\"Label_54\",\"Label_55\",\"Label_56\",\"Label_57\",\"Label_58\",\"Label_59\",\"Label_60\",\"Label_61\",\"Label_62\",\"Label_64\",\"Label_65\",\"Label_66\",\"Label_67\",\"Label_68\",\"Label_69\",\"Label_70\",\"Label_72\",\"Label_73\",\"Label_74\",\"Label_75\",\"Label_77\",\"Label_78\",\"Label_79\",\"Label_80\",\"Label_81\",\"Label_82\",\"Label_83\",\"Label_85\",\"Label_87\",\"Label_88\",\"Label_89\",\"Label_90\",\"Label_92\",\"Label_93\",\"Label_94\",\"Label_95\",\"Label_97\",\"Label_98\",\"Label_100\",\"Label_101\",\"Label_105\",\"Label_106\",\"Label_107\",\"Label_109\",\"Label_110\",\"Label_111\",\"Label_112\",\"Label_113\",\"Label_114\",\"Label_115\",\"Label_116\",\"Label_117\",\"Label_118\",\"Label_119\",\"Label_122\",\"Label_123\",\"Label_124\",\"Label_125\",\"Label_126\",\"Label_128\",\"Label_129\",\"Label_131\",\"Label_132\",\"Label_133\",\"Label_134\",\"Label_135\",\"Label_136\",\"Label_137\",\"Label_138\",\"Label_139\",\"Label_140\",\"Label_141\",\"Label_142\",\"Label_143\",\"Label_144\",\"Label_145\",\"Label_146\",\"Label_147\",\"Label_148\",\"Label_149\",\"Label_150\",\"Label_151\",\"Label_153\",\"Label_154\",\"Label_155\",\"Label_156\",\"Label_157\",\"Label_158\",\"Label_159\",\"Label_160\",\"Label_161\",\"Label_162\",\"Label_163\",\"Label_165\",\"Label_167\",\"Label_168\",\"Label_169\",\"Label_171\",\"Label_172\",\"Label_173\",\"Label_174\",\"Label_175\",\"Label_177\",\"Label_186\",\"Label_188\",\"Label_189\",\"Label_190\",\"Label_191\",\"Label_192\",\"Label_193\",\"Label_194\",\"Label_195\"]]\n",
    "a = sub.columns\n",
    "a"
   ]
  },
  {
   "cell_type": "code",
   "execution_count": null,
   "id": "1a333996-0734-420a-903e-67d476f3f766",
   "metadata": {},
   "outputs": [],
   "source": [
    "sub.iloc[:,1:] = result_df\n",
    "sub.columns = sub_path\n",
    "sub = sub[a]\n",
    "sub"
   ]
  },
  {
   "cell_type": "code",
   "execution_count": null,
   "id": "18733d31-4498-4801-9219-1ff73506cbf8",
   "metadata": {},
   "outputs": [],
   "source": [
    "sub.to_csv(\"sub17.csv\",index=False)"
   ]
  }
 ],
 "metadata": {
  "kernelspec": {
   "display_name": "Python 3 (ipykernel)",
   "language": "python",
   "name": "python3"
  },
  "language_info": {
   "codemirror_mode": {
    "name": "ipython",
    "version": 3
   },
   "file_extension": ".py",
   "mimetype": "text/x-python",
   "name": "python",
   "nbconvert_exporter": "python",
   "pygments_lexer": "ipython3",
   "version": "3.8.16"
  }
 },
 "nbformat": 4,
 "nbformat_minor": 5
}
