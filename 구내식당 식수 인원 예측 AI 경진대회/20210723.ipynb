{
 "cells": [
  {
   "cell_type": "code",
   "execution_count": null,
   "metadata": {
    "_cell_guid": "b1076dfc-b9ad-4769-8c92-a6c4dae69d19",
    "_uuid": "8f2839f25d086af736a60e9eeb907d3b93b6e0e5",
    "execution": {
     "iopub.execute_input": "2021-07-22T21:47:52.996068Z",
     "iopub.status.busy": "2021-07-22T21:47:52.995535Z",
     "iopub.status.idle": "2021-07-22T21:47:53.013756Z",
     "shell.execute_reply": "2021-07-22T21:47:53.012965Z",
     "shell.execute_reply.started": "2021-07-22T21:47:52.995983Z"
    }
   },
   "outputs": [],
   "source": [
    "# This Python 3 environment comes with many helpful analytics libraries installed\n",
    "# It is defined by the kaggle/python Docker image: https://github.com/kaggle/docker-python\n",
    "# For example, here's several helpful packages to load\n",
    "\n",
    "import numpy as np # linear algebra\n",
    "import pandas as pd # data processing, CSV file I/O (e.g. pd.read_csv)\n",
    "\n",
    "# Input data files are available in the read-only \"../input/\" directory\n",
    "# For example, running this (by clicking run or pressing Shift+Enter) will list all files under the input directory\n",
    "\n",
    "import os\n",
    "for dirname, _, filenames in os.walk('/kaggle/input'):\n",
    "    for filename in filenames:\n",
    "        print(os.path.join(dirname, filename))\n",
    "\n",
    "# You can write up to 20GB to the current directory (/kaggle/working/) that gets preserved as output when you create a version using \"Save & Run All\" \n",
    "# You can also write temporary files to /kaggle/temp/, but they won't be saved outside of the current session"
   ]
  },
  {
   "cell_type": "code",
   "execution_count": null,
   "metadata": {
    "execution": {
     "iopub.execute_input": "2021-07-22T21:47:53.015680Z",
     "iopub.status.busy": "2021-07-22T21:47:53.015228Z",
     "iopub.status.idle": "2021-07-22T21:47:53.213982Z",
     "shell.execute_reply": "2021-07-22T21:47:53.213131Z",
     "shell.execute_reply.started": "2021-07-22T21:47:53.015621Z"
    }
   },
   "outputs": [],
   "source": [
    "train = pd.read_csv(\"../input/daconsets2/train.csv\")\n",
    "test = pd.read_csv(\"../input/daconsets2/test.csv\")\n",
    "display(train,test)"
   ]
  },
  {
   "cell_type": "code",
   "execution_count": null,
   "metadata": {
    "execution": {
     "iopub.execute_input": "2021-07-22T21:47:53.215835Z",
     "iopub.status.busy": "2021-07-22T21:47:53.215572Z",
     "iopub.status.idle": "2021-07-22T21:47:53.246871Z",
     "shell.execute_reply": "2021-07-22T21:47:53.246156Z",
     "shell.execute_reply.started": "2021-07-22T21:47:53.215807Z"
    }
   },
   "outputs": [],
   "source": [
    "all_data = pd.concat([train,test]).reset_index(drop=True)\n",
    "all_data"
   ]
  },
  {
   "cell_type": "code",
   "execution_count": null,
   "metadata": {
    "execution": {
     "iopub.execute_input": "2021-07-22T21:47:53.248746Z",
     "iopub.status.busy": "2021-07-22T21:47:53.248261Z",
     "iopub.status.idle": "2021-07-22T21:47:53.273246Z",
     "shell.execute_reply": "2021-07-22T21:47:53.272421Z",
     "shell.execute_reply.started": "2021-07-22T21:47:53.248704Z"
    }
   },
   "outputs": [],
   "source": [
    "new_df = all_data.iloc[:,0:7]\n",
    "new_df"
   ]
  },
  {
   "cell_type": "code",
   "execution_count": null,
   "metadata": {
    "execution": {
     "iopub.execute_input": "2021-07-22T21:47:53.274748Z",
     "iopub.status.busy": "2021-07-22T21:47:53.274263Z",
     "iopub.status.idle": "2021-07-22T21:47:54.200338Z",
     "shell.execute_reply": "2021-07-22T21:47:54.199492Z",
     "shell.execute_reply.started": "2021-07-22T21:47:53.274711Z"
    }
   },
   "outputs": [],
   "source": [
    "from sklearn.preprocessing import LabelEncoder\n",
    "le = LabelEncoder()\n",
    "new_df[\"요일\"] = le.fit_transform(new_df[\"요일\"])"
   ]
  },
  {
   "cell_type": "code",
   "execution_count": null,
   "metadata": {
    "execution": {
     "iopub.execute_input": "2021-07-22T21:47:54.201714Z",
     "iopub.status.busy": "2021-07-22T21:47:54.201343Z",
     "iopub.status.idle": "2021-07-22T21:47:54.221744Z",
     "shell.execute_reply": "2021-07-22T21:47:54.220805Z",
     "shell.execute_reply.started": "2021-07-22T21:47:54.201686Z"
    }
   },
   "outputs": [],
   "source": [
    "new_df = pd.get_dummies(new_df.iloc[:,1:7])\n",
    "new_df"
   ]
  },
  {
   "cell_type": "code",
   "execution_count": null,
   "metadata": {
    "execution": {
     "iopub.execute_input": "2021-07-22T21:47:54.223985Z",
     "iopub.status.busy": "2021-07-22T21:47:54.223684Z",
     "iopub.status.idle": "2021-07-22T21:48:00.105551Z",
     "shell.execute_reply": "2021-07-22T21:48:00.104488Z",
     "shell.execute_reply.started": "2021-07-22T21:47:54.223948Z"
    }
   },
   "outputs": [],
   "source": [
    "from keras.preprocessing.text import Tokenizer\n",
    "tk = Tokenizer() # 너무 많이 등장하지 않았거나 등장한 단어 제거할 수 있다. 옵션을 통해\n",
    "tk.fit_on_texts(all_data[\"중식메뉴\"])\n",
    "#tk.word_index"
   ]
  },
  {
   "cell_type": "code",
   "execution_count": null,
   "metadata": {
    "execution": {
     "iopub.execute_input": "2021-07-22T21:48:00.107539Z",
     "iopub.status.busy": "2021-07-22T21:48:00.107165Z",
     "iopub.status.idle": "2021-07-22T21:48:00.113232Z",
     "shell.execute_reply": "2021-07-22T21:48:00.112219Z",
     "shell.execute_reply.started": "2021-07-22T21:48:00.107494Z"
    }
   },
   "outputs": [],
   "source": [
    "tk.word_index[\"잡곡밥\"] # 특수 문자가 자동으로 무시됨, tk의 filter라는 옵션이 특수 문자 무시함, 다른 특수문자가 중요한 대회에서는 중요할 수도 있다.(댓글 분석, 감정 표현, 욕, 이모티콘)"
   ]
  },
  {
   "cell_type": "code",
   "execution_count": null,
   "metadata": {
    "execution": {
     "iopub.execute_input": "2021-07-22T21:48:00.115143Z",
     "iopub.status.busy": "2021-07-22T21:48:00.114803Z",
     "iopub.status.idle": "2021-07-22T21:48:00.128712Z",
     "shell.execute_reply": "2021-07-22T21:48:00.127657Z",
     "shell.execute_reply.started": "2021-07-22T21:48:00.115113Z"
    }
   },
   "outputs": [],
   "source": [
    "tk.word_counts[\"잡곡밥\"] # 등장한 단어 횟수"
   ]
  },
  {
   "cell_type": "code",
   "execution_count": null,
   "metadata": {
    "execution": {
     "iopub.execute_input": "2021-07-22T21:48:00.130479Z",
     "iopub.status.busy": "2021-07-22T21:48:00.130197Z",
     "iopub.status.idle": "2021-07-22T21:48:00.163465Z",
     "shell.execute_reply": "2021-07-22T21:48:00.162059Z",
     "shell.execute_reply.started": "2021-07-22T21:48:00.130452Z"
    }
   },
   "outputs": [],
   "source": [
    "text = tk.texts_to_sequences(all_data[\"중식메뉴\"]) "
   ]
  },
  {
   "cell_type": "code",
   "execution_count": null,
   "metadata": {
    "execution": {
     "iopub.execute_input": "2021-07-22T21:48:00.165543Z",
     "iopub.status.busy": "2021-07-22T21:48:00.165229Z",
     "iopub.status.idle": "2021-07-22T21:48:00.191788Z",
     "shell.execute_reply": "2021-07-22T21:48:00.190777Z",
     "shell.execute_reply.started": "2021-07-22T21:48:00.165512Z"
    }
   },
   "outputs": [],
   "source": [
    "from keras.preprocessing.sequence import pad_sequences\n",
    "pad_text = pad_sequences(text)\n",
    "pad_text # 토큰나이저가 1부터 시작"
   ]
  },
  {
   "cell_type": "code",
   "execution_count": null,
   "metadata": {
    "execution": {
     "iopub.execute_input": "2021-07-22T21:48:00.193863Z",
     "iopub.status.busy": "2021-07-22T21:48:00.193438Z",
     "iopub.status.idle": "2021-07-22T21:48:00.200694Z",
     "shell.execute_reply": "2021-07-22T21:48:00.199507Z",
     "shell.execute_reply.started": "2021-07-22T21:48:00.193820Z"
    }
   },
   "outputs": [],
   "source": [
    "pad_text.shape "
   ]
  },
  {
   "cell_type": "code",
   "execution_count": null,
   "metadata": {
    "execution": {
     "iopub.execute_input": "2021-07-22T21:48:00.202637Z",
     "iopub.status.busy": "2021-07-22T21:48:00.202337Z",
     "iopub.status.idle": "2021-07-22T21:48:00.237872Z",
     "shell.execute_reply": "2021-07-22T21:48:00.236982Z",
     "shell.execute_reply.started": "2021-07-22T21:48:00.202608Z"
    }
   },
   "outputs": [],
   "source": [
    "tk2 = Tokenizer()\n",
    "tk2.fit_on_texts(all_data[\"석식메뉴\"])"
   ]
  },
  {
   "cell_type": "code",
   "execution_count": null,
   "metadata": {
    "execution": {
     "iopub.execute_input": "2021-07-22T21:48:00.239955Z",
     "iopub.status.busy": "2021-07-22T21:48:00.239490Z",
     "iopub.status.idle": "2021-07-22T21:48:00.264058Z",
     "shell.execute_reply": "2021-07-22T21:48:00.262733Z",
     "shell.execute_reply.started": "2021-07-22T21:48:00.239894Z"
    }
   },
   "outputs": [],
   "source": [
    "text2 = tk2.texts_to_sequences(all_data[\"석식메뉴\"]) "
   ]
  },
  {
   "cell_type": "code",
   "execution_count": null,
   "metadata": {
    "execution": {
     "iopub.execute_input": "2021-07-22T21:48:00.265565Z",
     "iopub.status.busy": "2021-07-22T21:48:00.265285Z",
     "iopub.status.idle": "2021-07-22T21:48:00.288779Z",
     "shell.execute_reply": "2021-07-22T21:48:00.288040Z",
     "shell.execute_reply.started": "2021-07-22T21:48:00.265530Z"
    }
   },
   "outputs": [],
   "source": [
    "pad_text2 = pad_sequences(text2)\n",
    "pad_text2"
   ]
  },
  {
   "cell_type": "code",
   "execution_count": null,
   "metadata": {
    "execution": {
     "iopub.execute_input": "2021-07-22T21:48:00.291147Z",
     "iopub.status.busy": "2021-07-22T21:48:00.290350Z",
     "iopub.status.idle": "2021-07-22T21:48:00.297261Z",
     "shell.execute_reply": "2021-07-22T21:48:00.296492Z",
     "shell.execute_reply.started": "2021-07-22T21:48:00.291098Z"
    }
   },
   "outputs": [],
   "source": [
    "pad_text2.shape"
   ]
  },
  {
   "cell_type": "code",
   "execution_count": null,
   "metadata": {
    "execution": {
     "iopub.execute_input": "2021-07-22T21:48:00.298816Z",
     "iopub.status.busy": "2021-07-22T21:48:00.298431Z",
     "iopub.status.idle": "2021-07-22T21:48:00.311008Z",
     "shell.execute_reply": "2021-07-22T21:48:00.310241Z",
     "shell.execute_reply.started": "2021-07-22T21:48:00.298774Z"
    }
   },
   "outputs": [],
   "source": [
    "new_train = new_df[:len(train)]\n",
    "new_test = new_df[len(train):]"
   ]
  },
  {
   "cell_type": "code",
   "execution_count": null,
   "metadata": {
    "execution": {
     "iopub.execute_input": "2021-07-22T21:48:00.313071Z",
     "iopub.status.busy": "2021-07-22T21:48:00.312329Z",
     "iopub.status.idle": "2021-07-22T21:48:00.323803Z",
     "shell.execute_reply": "2021-07-22T21:48:00.322798Z",
     "shell.execute_reply.started": "2021-07-22T21:48:00.313022Z"
    }
   },
   "outputs": [],
   "source": [
    "train_text = pad_text[:len(train)]\n",
    "test_text = pad_text[len(train):]"
   ]
  },
  {
   "cell_type": "code",
   "execution_count": null,
   "metadata": {
    "execution": {
     "iopub.execute_input": "2021-07-22T21:48:00.326843Z",
     "iopub.status.busy": "2021-07-22T21:48:00.326554Z",
     "iopub.status.idle": "2021-07-22T21:48:00.336900Z",
     "shell.execute_reply": "2021-07-22T21:48:00.335623Z",
     "shell.execute_reply.started": "2021-07-22T21:48:00.326815Z"
    }
   },
   "outputs": [],
   "source": [
    "train_text2 = pad_text2[:len(train)]\n",
    "test_text2 = pad_text2[len(train):]"
   ]
  },
  {
   "cell_type": "code",
   "execution_count": null,
   "metadata": {
    "execution": {
     "iopub.execute_input": "2021-07-22T21:48:00.338989Z",
     "iopub.status.busy": "2021-07-22T21:48:00.338457Z",
     "iopub.status.idle": "2021-07-22T21:48:00.352343Z",
     "shell.execute_reply": "2021-07-22T21:48:00.351028Z",
     "shell.execute_reply.started": "2021-07-22T21:48:00.338954Z"
    }
   },
   "outputs": [],
   "source": [
    "len(tk.word_index)"
   ]
  },
  {
   "cell_type": "code",
   "execution_count": null,
   "metadata": {
    "execution": {
     "iopub.execute_input": "2021-07-22T21:48:00.365835Z",
     "iopub.status.busy": "2021-07-22T21:48:00.365344Z",
     "iopub.status.idle": "2021-07-22T21:49:16.441895Z",
     "shell.execute_reply": "2021-07-22T21:49:16.441049Z",
     "shell.execute_reply.started": "2021-07-22T21:48:00.365794Z"
    }
   },
   "outputs": [],
   "source": [
    "# 중식계\n",
    "result = 0\n",
    "best_score = 0\n",
    "from sklearn.model_selection import KFold\n",
    "from keras import *\n",
    "from keras.layers import *\n",
    "from keras.callbacks import *\n",
    "i = 0\n",
    "kf = KFold(n_splits = 5, shuffle = True, random_state = 82) \n",
    "for train_index, valid_index in kf.split(train_text):\n",
    "    i += 1\n",
    "    print(f\"{i}회\")\n",
    "    es = EarlyStopping(patience = 20, verbose = 1) \n",
    "    mc = ModelCheckpoint(f\"best{i}.h5\",save_best_only = True, verbose = 1)\n",
    "    X_train, X_valid = train_text[train_index], train_text[valid_index] \n",
    "    X_train2,X_valid2 = new_train.iloc[train_index], new_train.iloc[valid_index]\n",
    "    y_train, y_valid = train[\"중식계\"].iloc[train_index], train[\"중식계\"].iloc[valid_index]\n",
    "    inp1 = Input((6)) \n",
    "    inp2 = Input((22))\n",
    "    \n",
    "    num_layer = Dense(32,activation = \"elu\")(inp1) \n",
    "    emb = Embedding(1790,10)(inp2) \n",
    "    \n",
    "    branch1 = Dense(16,activation = \"elu\")(num_layer)\n",
    "    branch2 = Flatten()(emb)\n",
    "    \n",
    "    concat = concatenate([branch1, branch2])\n",
    "    output = Dense(1)(concat)\n",
    "    model = Model([inp1,inp2],output)\n",
    "    \n",
    "    model.compile(metrics=[\"mae\"], optimizer = \"adam\", loss = \"mse\")\n",
    "    history = model.fit([X_train2,X_train],y_train,validation_data = ([X_valid2,X_valid],y_valid), epochs = 500, callbacks = [es,mc]) # 내부 베스트 점수 보기위한 history\n",
    "    # rl은 이미지나 오디오에서 많이 쓰인다. 텍스트에서는 잘 쓰이지 않는다.\n",
    "    model.load_weights(f\"best{i}.h5\")\n",
    "    result += model.predict([new_test,test_text], verbose = 1) / 5\n",
    "    best_score += np.min(history.history[\"val_mae\"]) / 5"
   ]
  },
  {
   "cell_type": "code",
   "execution_count": null,
   "metadata": {
    "execution": {
     "iopub.execute_input": "2021-07-22T21:49:16.444618Z",
     "iopub.status.busy": "2021-07-22T21:49:16.444316Z",
     "iopub.status.idle": "2021-07-22T21:50:21.791830Z",
     "shell.execute_reply": "2021-07-22T21:50:21.791034Z",
     "shell.execute_reply.started": "2021-07-22T21:49:16.444586Z"
    }
   },
   "outputs": [],
   "source": [
    "# 석식계\n",
    "result2 = 0\n",
    "best_score2 = 0\n",
    "from sklearn.model_selection import KFold\n",
    "from keras import *\n",
    "from keras.layers import *\n",
    "from keras.callbacks import *\n",
    "\n",
    "i = 0\n",
    "kf = KFold(n_splits = 5, shuffle = True, random_state = 82) \n",
    "for train_index, valid_index in kf.split(train_text):\n",
    "    i += 1\n",
    "    print(f\"{i}회\")\n",
    "    es = EarlyStopping(patience = 20, verbose = 1)\n",
    "    mc = ModelCheckpoint(f\"testbest{i}.h5\",save_best_only = True, verbose = 1)\n",
    "    X_train, X_valid = train_text2[train_index], train_text2[valid_index] \n",
    "    X_train2,X_valid2 = new_train.iloc[train_index], new_train.iloc[valid_index]\n",
    "    y_train, y_valid = train[\"석식계\"].iloc[train_index], train[\"석식계\"].iloc[valid_index]# 한번에 예측\n",
    "    inp1 = Input((6)) \n",
    "    inp2 = Input((22))\n",
    "    \n",
    "    num_layer = Dense(32,activation = \"elu\")(inp1) # 학습\n",
    "    emb = Embedding(1790,10)(inp2) # 하나의 단어당 3개의 의미 벡터\n",
    "    \n",
    "    branch1 = Dense(16,activation = \"elu\")(num_layer)\n",
    "    branch2 = Flatten()(emb)\n",
    "    \n",
    "    concat = concatenate([branch1, branch2])\n",
    "    output = Dense(1)(concat)\n",
    "    model = Model([inp1,inp2],output)\n",
    "    model.compile(metrics=[\"mae\"], optimizer = \"adam\", loss = \"mse\")\n",
    "    history = model.fit([X_train2,X_train],y_train,validation_data = ([X_valid2,X_valid],y_valid), epochs = 500, callbacks = [es,mc]) # 내부 베스트 점수 보기위한 history\n",
    "    # rl은 이미지나 오디오에서 많이 쓰인다. 텍스트에서는 잘 쓰이지 않는다.\n",
    "    model.load_weights(f\"testbest{i}.h5\")\n",
    "    result2 += model.predict([new_test,test_text2], verbose = 1) / 5\n",
    "    best_score2 += np.min(history.history[\"val_mae\"]) / 5"
   ]
  },
  {
   "cell_type": "code",
   "execution_count": null,
   "metadata": {
    "execution": {
     "iopub.execute_input": "2021-07-22T21:50:21.793288Z",
     "iopub.status.busy": "2021-07-22T21:50:21.792836Z",
     "iopub.status.idle": "2021-07-22T21:50:21.799362Z",
     "shell.execute_reply": "2021-07-22T21:50:21.798300Z",
     "shell.execute_reply.started": "2021-07-22T21:50:21.793243Z"
    }
   },
   "outputs": [],
   "source": [
    "best_score # 114.68"
   ]
  },
  {
   "cell_type": "code",
   "execution_count": null,
   "metadata": {
    "execution": {
     "iopub.execute_input": "2021-07-22T21:50:21.801036Z",
     "iopub.status.busy": "2021-07-22T21:50:21.800744Z",
     "iopub.status.idle": "2021-07-22T21:50:21.816920Z",
     "shell.execute_reply": "2021-07-22T21:50:21.816022Z",
     "shell.execute_reply.started": "2021-07-22T21:50:21.801008Z"
    }
   },
   "outputs": [],
   "source": [
    "best_score2 # 63.09"
   ]
  },
  {
   "cell_type": "code",
   "execution_count": null,
   "metadata": {
    "execution": {
     "iopub.execute_input": "2021-07-22T21:50:21.818417Z",
     "iopub.status.busy": "2021-07-22T21:50:21.818158Z",
     "iopub.status.idle": "2021-07-22T21:50:21.850261Z",
     "shell.execute_reply": "2021-07-22T21:50:21.849277Z",
     "shell.execute_reply.started": "2021-07-22T21:50:21.818391Z"
    }
   },
   "outputs": [],
   "source": [
    "sub = pd.read_csv(\"../input/daconsets2/sample_submission.csv\")\n",
    "sub[\"중식계\"] = result\n",
    "sub[\"석식계\"] = result2\n",
    "sub"
   ]
  },
  {
   "cell_type": "code",
   "execution_count": null,
   "metadata": {
    "execution": {
     "iopub.execute_input": "2021-07-22T21:51:12.138666Z",
     "iopub.status.busy": "2021-07-22T21:51:12.138334Z",
     "iopub.status.idle": "2021-07-22T21:51:12.144324Z",
     "shell.execute_reply": "2021-07-22T21:51:12.143456Z",
     "shell.execute_reply.started": "2021-07-22T21:51:12.138636Z"
    }
   },
   "outputs": [],
   "source": [
    "sub.to_csv(\"sub5.csv\",index=False)"
   ]
  }
 ],
 "metadata": {
  "kernelspec": {
   "display_name": "Python 3",
   "language": "python",
   "name": "python3"
  },
  "language_info": {
   "codemirror_mode": {
    "name": "ipython",
    "version": 3
   },
   "file_extension": ".py",
   "mimetype": "text/x-python",
   "name": "python",
   "nbconvert_exporter": "python",
   "pygments_lexer": "ipython3",
   "version": "3.7.0"
  }
 },
 "nbformat": 4,
 "nbformat_minor": 4
}
