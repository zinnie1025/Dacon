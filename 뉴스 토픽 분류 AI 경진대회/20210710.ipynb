{
 "cells": [
  {
   "cell_type": "code",
   "execution_count": null,
   "metadata": {
    "_cell_guid": "b1076dfc-b9ad-4769-8c92-a6c4dae69d19",
    "_uuid": "8f2839f25d086af736a60e9eeb907d3b93b6e0e5",
    "execution": {
     "iopub.execute_input": "2021-07-10T04:43:49.261859Z",
     "iopub.status.busy": "2021-07-10T04:43:49.261535Z",
     "iopub.status.idle": "2021-07-10T04:43:49.272938Z",
     "shell.execute_reply": "2021-07-10T04:43:49.271835Z",
     "shell.execute_reply.started": "2021-07-10T04:43:49.261831Z"
    }
   },
   "outputs": [],
   "source": [
    "# This Python 3 environment comes with many helpful analytics libraries installed\n",
    "# It is defined by the kaggle/python Docker image: https://github.com/kaggle/docker-python\n",
    "# For example, here's several helpful packages to load\n",
    "\n",
    "import numpy as np # linear algebra\n",
    "import pandas as pd # data processing, CSV file I/O (e.g. pd.read_csv)\n",
    "\n",
    "# Input data files are available in the read-only \"../input/\" directory\n",
    "# For example, running this (by clicking run or pressing Shift+Enter) will list all files under the input directory\n",
    "\n",
    "import os\n",
    "for dirname, _, filenames in os.walk('/kaggle/input'):\n",
    "    for filename in filenames:\n",
    "        print(os.path.join(dirname, filename))\n",
    "\n",
    "# You can write up to 20GB to the current directory (/kaggle/working/) that gets preserved as output when you create a version using \"Save & Run All\" \n",
    "# You can also write temporary files to /kaggle/temp/, but they won't be saved outside of the current session"
   ]
  },
  {
   "cell_type": "code",
   "execution_count": null,
   "metadata": {
    "execution": {
     "iopub.execute_input": "2021-07-10T04:43:49.276156Z",
     "iopub.status.busy": "2021-07-10T04:43:49.275808Z",
     "iopub.status.idle": "2021-07-10T04:43:49.415494Z",
     "shell.execute_reply": "2021-07-10T04:43:49.414449Z",
     "shell.execute_reply.started": "2021-07-10T04:43:49.276121Z"
    }
   },
   "outputs": [],
   "source": [
    "train = pd.read_csv(\"/kaggle/input/newsdata/train_data.csv\")\n",
    "test = pd.read_csv(\"/kaggle/input/newsdata/test_data.csv\")\n",
    "topic = pd.read_csv(\"/kaggle/input/newsdata/topic_dict.csv\")\n",
    "display(train,test,topic)"
   ]
  },
  {
   "cell_type": "code",
   "execution_count": null,
   "metadata": {
    "execution": {
     "iopub.execute_input": "2021-07-10T04:43:49.417273Z",
     "iopub.status.busy": "2021-07-10T04:43:49.416929Z",
     "iopub.status.idle": "2021-07-10T04:43:49.436101Z",
     "shell.execute_reply": "2021-07-10T04:43:49.435366Z",
     "shell.execute_reply.started": "2021-07-10T04:43:49.417237Z"
    }
   },
   "outputs": [],
   "source": [
    "all_data = pd.concat([train,test])\n",
    "all_data"
   ]
  },
  {
   "cell_type": "code",
   "execution_count": null,
   "metadata": {
    "execution": {
     "iopub.execute_input": "2021-07-10T04:43:49.438221Z",
     "iopub.status.busy": "2021-07-10T04:43:49.437869Z",
     "iopub.status.idle": "2021-07-10T04:43:49.467472Z",
     "shell.execute_reply": "2021-07-10T04:43:49.466440Z",
     "shell.execute_reply.started": "2021-07-10T04:43:49.438185Z"
    }
   },
   "outputs": [],
   "source": [
    "text = list(all_data[\"title\"])\n",
    "text"
   ]
  },
  {
   "cell_type": "code",
   "execution_count": null,
   "metadata": {
    "execution": {
     "iopub.execute_input": "2021-07-10T04:43:49.470190Z",
     "iopub.status.busy": "2021-07-10T04:43:49.469435Z"
    }
   },
   "outputs": [],
   "source": [
    "#pip install konlpy"
   ]
  },
  {
   "cell_type": "code",
   "execution_count": null,
   "metadata": {},
   "outputs": [],
   "source": [
    "from konlpy.tag import Kkma\n",
    "kkma = Kkma()\n",
    "kkma_list = []\n",
    "for i in text:\n",
    "    k = kkma.morphs(i)\n",
    "    kkma_list.append(k)\n",
    "kkma_list"
   ]
  },
  {
   "cell_type": "code",
   "execution_count": null,
   "metadata": {},
   "outputs": [],
   "source": [
    "kkma_list = np.array(kkma_list)\n",
    "kkma_list"
   ]
  },
  {
   "cell_type": "code",
   "execution_count": null,
   "metadata": {},
   "outputs": [],
   "source": [
    "from keras.preprocessing.text import Tokenizer\n",
    "tk = Tokenizer()\n",
    "tk.fit_on_texts(kkma_list)"
   ]
  },
  {
   "cell_type": "code",
   "execution_count": null,
   "metadata": {},
   "outputs": [],
   "source": [
    "text = tk.texts_to_sequences(kkma_list) \n",
    "text"
   ]
  },
  {
   "cell_type": "code",
   "execution_count": null,
   "metadata": {},
   "outputs": [],
   "source": [
    "from keras.preprocessing.sequence import pad_sequences\n",
    "pad_text = pad_sequences(text, padding = \"post\")\n",
    "pad_text"
   ]
  },
  {
   "cell_type": "code",
   "execution_count": null,
   "metadata": {},
   "outputs": [],
   "source": [
    "pad_text.shape"
   ]
  },
  {
   "cell_type": "code",
   "execution_count": null,
   "metadata": {},
   "outputs": [],
   "source": [
    "train_text = pad_text[:len(train)]\n",
    "test_text = pad_text[len(train):]"
   ]
  },
  {
   "cell_type": "code",
   "execution_count": null,
   "metadata": {},
   "outputs": [],
   "source": [
    "len(tk.word_index)"
   ]
  },
  {
   "cell_type": "code",
   "execution_count": null,
   "metadata": {},
   "outputs": [],
   "source": [
    "result_text = 0\n",
    "\n",
    "from sklearn.model_selection import StratifiedKFold\n",
    "from keras import *\n",
    "from keras.layers import *\n",
    "from keras.callbacks import *\n",
    "from keras.optimizers import Adam\n",
    "\n",
    "skf = StratifiedKFold(n_splits = 5, shuffle = True, random_state = 82)  \n",
    "for train_index, valid_index in skf.split(train_text,train[\"topic_idx\"]):\n",
    "    es = EarlyStopping(patience = 15, verbose = 1) \n",
    "    mc = ModelCheckpoint(\"best.h5\",save_best_only = True, verbose = 1)\n",
    "   \n",
    "    X_train, X_valid = train_text[train_index], train_text[valid_index] \n",
    "    y_train, y_valid = train[\"topic_idx\"].iloc[train_index], train[\"topic_idx\"].iloc[valid_index] \n",
    "    \n",
    "    model = Sequential()\n",
    "    model.add(Embedding(27110,15, input_length = 26))\n",
    "    model.add(GlobalAveragePooling1D())\n",
    "    model.add(Dense(7,activation = \"softmax\"))\n",
    "   \n",
    "    model.compile(metrics=[\"acc\"], optimizer = Adam(lr = 0.0005), loss = \"sparse_categorical_crossentropy\")\n",
    "    history = model.fit(X_train, y_train, validation_data = (X_valid,y_valid), epochs = 500, callbacks = [es,mc])\n",
    "    model.load_weights(\"best.h5\")\n",
    "    result_text += model.predict(test_text, verbose = 1) / 5\n",
    "    "
   ]
  },
  {
   "cell_type": "code",
   "execution_count": null,
   "metadata": {},
   "outputs": [],
   "source": [
    "sub = pd.read_csv(\"/kaggle/input/newsdata/sample_submission.csv\")\n",
    "sub[\"topic_idx\"] = result_text.argmax(1)\n",
    "sub"
   ]
  },
  {
   "cell_type": "code",
   "execution_count": null,
   "metadata": {},
   "outputs": [],
   "source": [
    "sub.to_csv(\"sub_konlpy4.csv\",index=False)"
   ]
  }
 ],
 "metadata": {
  "kernelspec": {
   "display_name": "Python 3",
   "language": "python",
   "name": "python3"
  },
  "language_info": {
   "codemirror_mode": {
    "name": "ipython",
    "version": 3
   },
   "file_extension": ".py",
   "mimetype": "text/x-python",
   "name": "python",
   "nbconvert_exporter": "python",
   "pygments_lexer": "ipython3",
   "version": "3.7.0"
  }
 },
 "nbformat": 4,
 "nbformat_minor": 4
}
