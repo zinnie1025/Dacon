{
 "cells": [
  {
   "cell_type": "code",
   "execution_count": null,
   "metadata": {
    "execution": {
     "iopub.execute_input": "2021-05-23T05:51:38.844284Z",
     "iopub.status.busy": "2021-05-23T05:51:38.843963Z",
     "iopub.status.idle": "2021-05-23T05:51:38.848310Z",
     "shell.execute_reply": "2021-05-23T05:51:38.847367Z",
     "shell.execute_reply.started": "2021-05-23T05:51:38.844255Z"
    }
   },
   "outputs": [],
   "source": [
    "import pandas as pd\n",
    "import numpy as np"
   ]
  },
  {
   "cell_type": "code",
   "execution_count": null,
   "metadata": {
    "execution": {
     "iopub.execute_input": "2021-05-23T05:51:38.850826Z",
     "iopub.status.busy": "2021-05-23T05:51:38.850208Z",
     "iopub.status.idle": "2021-05-23T05:51:38.990015Z",
     "shell.execute_reply": "2021-05-23T05:51:38.989148Z",
     "shell.execute_reply.started": "2021-05-23T05:51:38.850759Z"
    }
   },
   "outputs": [],
   "source": [
    "train = pd.read_csv(\"../input/dacon/train.csv\")\n",
    "test = pd.read_csv(\"../input/dacon/test.csv\")\n",
    "display(train,test)"
   ]
  },
  {
   "cell_type": "code",
   "execution_count": null,
   "metadata": {
    "execution": {
     "iopub.execute_input": "2021-05-23T05:51:38.992580Z",
     "iopub.status.busy": "2021-05-23T05:51:38.992227Z",
     "iopub.status.idle": "2021-05-23T05:51:39.036203Z",
     "shell.execute_reply": "2021-05-23T05:51:39.035099Z",
     "shell.execute_reply.started": "2021-05-23T05:51:38.992544Z"
    }
   },
   "outputs": [],
   "source": [
    "all_data = pd.concat([train,test])\n",
    "all_data"
   ]
  },
  {
   "cell_type": "code",
   "execution_count": null,
   "metadata": {
    "execution": {
     "iopub.execute_input": "2021-05-23T05:51:39.038703Z",
     "iopub.status.busy": "2021-05-23T05:51:39.038354Z",
     "iopub.status.idle": "2021-05-23T05:51:39.075465Z",
     "shell.execute_reply": "2021-05-23T05:51:39.074692Z",
     "shell.execute_reply.started": "2021-05-23T05:51:39.038668Z"
    }
   },
   "outputs": [],
   "source": [
    "# income(연봉) /  DAYS_EMPLOYED -> 어떤 사람이 회사에서 돈을 많이 버는가?, 회사에서 주는 연봉 + 이 사람이 들어간지 얼마안됐는데 값이 크다면 연봉상승률이 높다. 값이 작으면 연봉상승률이 작다.\n",
    "all_data[\"pay\"] = all_data[\"income_total\"] / all_data[\"DAYS_EMPLOYED\"]\n",
    "all_data"
   ]
  },
  {
   "cell_type": "code",
   "execution_count": null,
   "metadata": {
    "execution": {
     "iopub.execute_input": "2021-05-23T05:51:39.077378Z",
     "iopub.status.busy": "2021-05-23T05:51:39.077048Z",
     "iopub.status.idle": "2021-05-23T05:51:39.115685Z",
     "shell.execute_reply": "2021-05-23T05:51:39.114685Z",
     "shell.execute_reply.started": "2021-05-23T05:51:39.077345Z"
    }
   },
   "outputs": [],
   "source": [
    "# income(연봉) / family_size -> 부양될 가족이 너무 많다면 안좋다. 연체비용을 갚기가 어렵다.\n",
    "all_data[\"family_pay\"] = all_data[\"income_total\"] / all_data[\"family_size\"]\n",
    "all_data"
   ]
  },
  {
   "cell_type": "code",
   "execution_count": null,
   "metadata": {
    "execution": {
     "iopub.execute_input": "2021-05-23T05:51:39.117642Z",
     "iopub.status.busy": "2021-05-23T05:51:39.117223Z",
     "iopub.status.idle": "2021-05-23T05:51:39.123555Z",
     "shell.execute_reply": "2021-05-23T05:51:39.122699Z",
     "shell.execute_reply.started": "2021-05-23T05:51:39.117591Z"
    }
   },
   "outputs": [],
   "source": [
    "#income(연봉) *  DAYS_EMPLOYED -> 이 사람이 지금까지 얼마나 벌었는가?\n",
    "all_data[\"year_pay\"] = all_data['income_total'] * all_data[\"DAYS_EMPLOYED\"]"
   ]
  },
  {
   "cell_type": "code",
   "execution_count": null,
   "metadata": {
    "execution": {
     "iopub.execute_input": "2021-05-23T05:51:39.125724Z",
     "iopub.status.busy": "2021-05-23T05:51:39.125324Z",
     "iopub.status.idle": "2021-05-23T05:51:39.153923Z",
     "shell.execute_reply": "2021-05-23T05:51:39.153004Z",
     "shell.execute_reply.started": "2021-05-23T05:51:39.125683Z"
    }
   },
   "outputs": [],
   "source": [
    "all_data[\"occyp_type\"] = all_data[\"occyp_type\"].fillna(\"null\")\n",
    "all_data[\"edu_job\"] = all_data[\"edu_type\"] + \"_\" + all_data[\"occyp_type\"]"
   ]
  },
  {
   "cell_type": "code",
   "execution_count": null,
   "metadata": {
    "execution": {
     "iopub.execute_input": "2021-05-23T05:51:39.155569Z",
     "iopub.status.busy": "2021-05-23T05:51:39.155236Z",
     "iopub.status.idle": "2021-05-23T05:51:39.169992Z",
     "shell.execute_reply": "2021-05-23T05:51:39.169061Z",
     "shell.execute_reply.started": "2021-05-23T05:51:39.155536Z"
    }
   },
   "outputs": [],
   "source": [
    "all_data[\"edu_income\"] = all_data[\"edu_type\"] + \"_\" + all_data[\"income_type\"]"
   ]
  },
  {
   "cell_type": "code",
   "execution_count": null,
   "metadata": {
    "execution": {
     "iopub.execute_input": "2021-05-23T05:51:39.171342Z",
     "iopub.status.busy": "2021-05-23T05:51:39.170970Z",
     "iopub.status.idle": "2021-05-23T05:51:39.186131Z",
     "shell.execute_reply": "2021-05-23T05:51:39.185192Z",
     "shell.execute_reply.started": "2021-05-23T05:51:39.171310Z"
    }
   },
   "outputs": [],
   "source": [
    "all_data[\"family_house\"] = all_data[\"family_type\"] + \"_\" + all_data[\"house_type\"]"
   ]
  },
  {
   "cell_type": "code",
   "execution_count": null,
   "metadata": {
    "execution": {
     "iopub.execute_input": "2021-05-23T05:51:39.188894Z",
     "iopub.status.busy": "2021-05-23T05:51:39.188653Z",
     "iopub.status.idle": "2021-05-23T05:51:39.253737Z",
     "shell.execute_reply": "2021-05-23T05:51:39.252841Z",
     "shell.execute_reply.started": "2021-05-23T05:51:39.188872Z"
    }
   },
   "outputs": [],
   "source": [
    "pd.options.display.max_columns = 999\n",
    "edu_income = all_data.groupby(\"edu_type\")[\"income_total\"].agg([\"count\",\"mean\",\"median\",\"std\",\"min\",\"max\",\"sum\"])\n",
    "all_data = all_data.join(edu_income,on=\"edu_type\")\n",
    "all_data"
   ]
  },
  {
   "cell_type": "code",
   "execution_count": null,
   "metadata": {
    "execution": {
     "iopub.execute_input": "2021-05-23T05:51:39.255720Z",
     "iopub.status.busy": "2021-05-23T05:51:39.255373Z",
     "iopub.status.idle": "2021-05-23T05:51:39.476542Z",
     "shell.execute_reply": "2021-05-23T05:51:39.475714Z",
     "shell.execute_reply.started": "2021-05-23T05:51:39.255686Z"
    }
   },
   "outputs": [],
   "source": [
    "import matplotlib.pyplot as plt\n",
    "import seaborn as sns\n",
    "plt.figure(figsize=(25,8))\n",
    "sns.boxplot(all_data[\"family_type\"],all_data[\"income_total\"],showfliers = False)"
   ]
  },
  {
   "cell_type": "code",
   "execution_count": null,
   "metadata": {
    "execution": {
     "iopub.execute_input": "2021-05-23T05:51:39.481455Z",
     "iopub.status.busy": "2021-05-23T05:51:39.481206Z",
     "iopub.status.idle": "2021-05-23T05:51:39.496685Z",
     "shell.execute_reply": "2021-05-23T05:51:39.495951Z",
     "shell.execute_reply.started": "2021-05-23T05:51:39.481430Z"
    }
   },
   "outputs": [],
   "source": [
    "all_data[\"null_marry\"] = np.where(((all_data[\"occyp_type\"] == \"null\") & (all_data[\"family_type\"] == \"Married\")),1,0)"
   ]
  },
  {
   "cell_type": "code",
   "execution_count": null,
   "metadata": {
    "execution": {
     "iopub.execute_input": "2021-05-23T05:51:39.499506Z",
     "iopub.status.busy": "2021-05-23T05:51:39.499097Z",
     "iopub.status.idle": "2021-05-23T05:51:39.511174Z",
     "shell.execute_reply": "2021-05-23T05:51:39.510462Z",
     "shell.execute_reply.started": "2021-05-23T05:51:39.499470Z"
    }
   },
   "outputs": [],
   "source": [
    "all_data[\"worst_income\"] = np.where(((all_data[\"income_type\"] == \"Working\") & (all_data[\"income_total\"] < 186685)),1,0)"
   ]
  },
  {
   "cell_type": "code",
   "execution_count": null,
   "metadata": {
    "execution": {
     "iopub.execute_input": "2021-05-23T05:51:39.513014Z",
     "iopub.status.busy": "2021-05-23T05:51:39.512619Z",
     "iopub.status.idle": "2021-05-23T05:51:39.521536Z",
     "shell.execute_reply": "2021-05-23T05:51:39.520387Z",
     "shell.execute_reply.started": "2021-05-23T05:51:39.512981Z"
    }
   },
   "outputs": [],
   "source": [
    "all_data[\"pay\"].mean()"
   ]
  },
  {
   "cell_type": "code",
   "execution_count": null,
   "metadata": {
    "execution": {
     "iopub.execute_input": "2021-05-23T05:51:39.539589Z",
     "iopub.status.busy": "2021-05-23T05:51:39.539174Z",
     "iopub.status.idle": "2021-05-23T05:51:39.553294Z",
     "shell.execute_reply": "2021-05-23T05:51:39.552506Z",
     "shell.execute_reply.started": "2021-05-23T05:51:39.539552Z"
    }
   },
   "outputs": [],
   "source": [
    "all_data[\"edu_type\"] = all_data[\"edu_type\"].replace({\"Academic degree\":\"null\"})"
   ]
  },
  {
   "cell_type": "code",
   "execution_count": null,
   "metadata": {
    "execution": {
     "iopub.execute_input": "2021-05-23T05:51:39.570175Z",
     "iopub.status.busy": "2021-05-23T05:51:39.569851Z",
     "iopub.status.idle": "2021-05-23T05:51:39.624105Z",
     "shell.execute_reply": "2021-05-23T05:51:39.623202Z",
     "shell.execute_reply.started": "2021-05-23T05:51:39.570130Z"
    }
   },
   "outputs": [],
   "source": [
    "pd.options.display.max_rows = 999\n",
    "all_data.corr()[\"credit\"].sort_values(ascending=False)"
   ]
  },
  {
   "cell_type": "code",
   "execution_count": null,
   "metadata": {
    "execution": {
     "iopub.execute_input": "2021-05-23T05:51:39.626074Z",
     "iopub.status.busy": "2021-05-23T05:51:39.625665Z",
     "iopub.status.idle": "2021-05-23T05:51:39.674070Z",
     "shell.execute_reply": "2021-05-23T05:51:39.673263Z",
     "shell.execute_reply.started": "2021-05-23T05:51:39.626036Z"
    }
   },
   "outputs": [],
   "source": [
    "# 재산\n",
    "all_data[\"has_job\"] = all_data[\"DAYS_EMPLOYED\"] != 365243\n",
    "all_data[\"money\"] = all_data[\"car\"].replace({\"Y\":1,\"N\":0}) + all_data[\"reality\"].replace({\"Y\":1,\"N\":0}) * 2 + all_data[\"phone\"] + all_data[\"has_job\"] "
   ]
  },
  {
   "cell_type": "code",
   "execution_count": null,
   "metadata": {
    "execution": {
     "iopub.execute_input": "2021-05-23T05:51:39.675585Z",
     "iopub.status.busy": "2021-05-23T05:51:39.675270Z",
     "iopub.status.idle": "2021-05-23T05:51:39.691574Z",
     "shell.execute_reply": "2021-05-23T05:51:39.690612Z",
     "shell.execute_reply.started": "2021-05-23T05:51:39.675553Z"
    }
   },
   "outputs": [],
   "source": [
    "all_data[\"family_type\"].value_counts()"
   ]
  },
  {
   "cell_type": "code",
   "execution_count": null,
   "metadata": {
    "execution": {
     "iopub.execute_input": "2021-05-23T05:51:39.693356Z",
     "iopub.status.busy": "2021-05-23T05:51:39.692851Z",
     "iopub.status.idle": "2021-05-23T05:51:39.712190Z",
     "shell.execute_reply": "2021-05-23T05:51:39.711473Z",
     "shell.execute_reply.started": "2021-05-23T05:51:39.693330Z"
    }
   },
   "outputs": [],
   "source": [
    "all_data = all_data.drop(columns=[\"has_job\"])"
   ]
  },
  {
   "cell_type": "code",
   "execution_count": null,
   "metadata": {
    "execution": {
     "iopub.execute_input": "2021-05-23T05:51:39.714202Z",
     "iopub.status.busy": "2021-05-23T05:51:39.713749Z",
     "iopub.status.idle": "2021-05-23T05:51:39.721013Z",
     "shell.execute_reply": "2021-05-23T05:51:39.719898Z",
     "shell.execute_reply.started": "2021-05-23T05:51:39.714165Z"
    }
   },
   "outputs": [],
   "source": [
    "all_data[\"income_diff\"] = all_data[\"income_total\"] - all_data[\"mean\"] * 1.5"
   ]
  },
  {
   "cell_type": "code",
   "execution_count": null,
   "metadata": {
    "execution": {
     "iopub.execute_input": "2021-05-23T05:51:39.723184Z",
     "iopub.status.busy": "2021-05-23T05:51:39.722748Z",
     "iopub.status.idle": "2021-05-23T05:51:39.732662Z",
     "shell.execute_reply": "2021-05-23T05:51:39.731690Z",
     "shell.execute_reply.started": "2021-05-23T05:51:39.723148Z"
    }
   },
   "outputs": [],
   "source": [
    "# 연봉 -> 표준편차\n",
    "all_data[\"income_std\"] = np.sqrt(((all_data[\"income_total\"] - all_data[\"income_total\"].mean())**2) / len(all_data[\"income_total\"]))"
   ]
  },
  {
   "cell_type": "code",
   "execution_count": null,
   "metadata": {
    "execution": {
     "iopub.execute_input": "2021-05-23T05:51:39.735034Z",
     "iopub.status.busy": "2021-05-23T05:51:39.734436Z",
     "iopub.status.idle": "2021-05-23T05:51:39.741879Z",
     "shell.execute_reply": "2021-05-23T05:51:39.741001Z",
     "shell.execute_reply.started": "2021-05-23T05:51:39.734996Z"
    }
   },
   "outputs": [],
   "source": [
    "# 나이가 많은 데 .. 직장에도 오래 있었다면?\n",
    "all_data[\"DAYS_plus\"] = all_data[\"DAYS_BIRTH\"] + all_data[\"DAYS_EMPLOYED\"] "
   ]
  },
  {
   "cell_type": "code",
   "execution_count": null,
   "metadata": {
    "execution": {
     "iopub.execute_input": "2021-05-23T05:51:39.744126Z",
     "iopub.status.busy": "2021-05-23T05:51:39.743621Z",
     "iopub.status.idle": "2021-05-23T05:51:39.753440Z",
     "shell.execute_reply": "2021-05-23T05:51:39.752566Z",
     "shell.execute_reply.started": "2021-05-23T05:51:39.744082Z"
    }
   },
   "outputs": [],
   "source": [
    "all_data[\"DAYS_Square\"] = np.sqrt(all_data[\"DAYS_BIRTH\"] ** 2 + all_data[\"DAYS_EMPLOYED\"] ** 2)"
   ]
  },
  {
   "cell_type": "code",
   "execution_count": null,
   "metadata": {
    "execution": {
     "iopub.execute_input": "2021-05-23T05:51:39.756006Z",
     "iopub.status.busy": "2021-05-23T05:51:39.755743Z",
     "iopub.status.idle": "2021-05-23T05:51:39.766984Z",
     "shell.execute_reply": "2021-05-23T05:51:39.765740Z",
     "shell.execute_reply.started": "2021-05-23T05:51:39.755982Z"
    }
   },
   "outputs": [],
   "source": [
    "all_data[\"DAYS_Square_minus\"] = np.sqrt(all_data[\"DAYS_BIRTH\"] ** 2 - all_data[\"DAYS_EMPLOYED\"] ** 2)"
   ]
  },
  {
   "cell_type": "code",
   "execution_count": null,
   "metadata": {
    "execution": {
     "iopub.execute_input": "2021-05-23T05:51:39.769104Z",
     "iopub.status.busy": "2021-05-23T05:51:39.768725Z",
     "iopub.status.idle": "2021-05-23T05:51:39.776794Z",
     "shell.execute_reply": "2021-05-23T05:51:39.775853Z",
     "shell.execute_reply.started": "2021-05-23T05:51:39.769068Z"
    }
   },
   "outputs": [],
   "source": [
    "# 취업을 얼마나 빨리 했는지 \n",
    "all_data[\"NoEmployed\"] = all_data[\"DAYS_BIRTH\"] - all_data[\"DAYS_EMPLOYED\"] * 2"
   ]
  },
  {
   "cell_type": "code",
   "execution_count": null,
   "metadata": {
    "execution": {
     "iopub.execute_input": "2021-05-23T05:51:39.778901Z",
     "iopub.status.busy": "2021-05-23T05:51:39.778634Z",
     "iopub.status.idle": "2021-05-23T05:51:39.802484Z",
     "shell.execute_reply": "2021-05-23T05:51:39.801877Z",
     "shell.execute_reply.started": "2021-05-23T05:51:39.778877Z"
    }
   },
   "outputs": [],
   "source": [
    "all_data[\"gender_car_reality\"] = all_data[\"gender\"] + \"_\" + all_data[\"car\"] + \"_\" + all_data[\"reality\"]"
   ]
  },
  {
   "cell_type": "code",
   "execution_count": null,
   "metadata": {
    "execution": {
     "iopub.execute_input": "2021-05-23T05:51:39.804335Z",
     "iopub.status.busy": "2021-05-23T05:51:39.803785Z",
     "iopub.status.idle": "2021-05-23T05:51:39.855418Z",
     "shell.execute_reply": "2021-05-23T05:51:39.854625Z",
     "shell.execute_reply.started": "2021-05-23T05:51:39.804299Z"
    }
   },
   "outputs": [],
   "source": [
    "all_data[\"job_email\"] = all_data[\"occyp_type\"] + \"_\" + all_data[\"email\"].astype(\"str\")"
   ]
  },
  {
   "cell_type": "code",
   "execution_count": null,
   "metadata": {
    "execution": {
     "iopub.execute_input": "2021-05-23T05:51:39.859207Z",
     "iopub.status.busy": "2021-05-23T05:51:39.858878Z",
     "iopub.status.idle": "2021-05-23T05:51:39.931442Z",
     "shell.execute_reply": "2021-05-23T05:51:39.930556Z",
     "shell.execute_reply.started": "2021-05-23T05:51:39.859182Z"
    }
   },
   "outputs": [],
   "source": [
    "all_data2 = all_data.drop(columns=[\"index\",\"credit\",\"FLAG_MOBIL\"])\n",
    "all_data2"
   ]
  },
  {
   "cell_type": "code",
   "execution_count": null,
   "metadata": {
    "execution": {
     "iopub.execute_input": "2021-05-23T05:51:39.934273Z",
     "iopub.status.busy": "2021-05-23T05:51:39.933747Z",
     "iopub.status.idle": "2021-05-23T05:51:40.190753Z",
     "shell.execute_reply": "2021-05-23T05:51:40.189093Z",
     "shell.execute_reply.started": "2021-05-23T05:51:39.934232Z"
    }
   },
   "outputs": [],
   "source": [
    "from sklearn.preprocessing import LabelEncoder\n",
    "le = LabelEncoder()\n",
    "for i in all_data2.columns[all_data2.dtypes == \"object\"]:\n",
    "    all_data2[i] = le.fit_transform(all_data2[i])\n",
    "all_data2"
   ]
  },
  {
   "cell_type": "code",
   "execution_count": null,
   "metadata": {
    "execution": {
     "iopub.execute_input": "2021-05-23T05:51:40.194429Z",
     "iopub.status.busy": "2021-05-23T05:51:40.194000Z",
     "iopub.status.idle": "2021-05-23T05:51:40.358453Z",
     "shell.execute_reply": "2021-05-23T05:51:40.357597Z",
     "shell.execute_reply.started": "2021-05-23T05:51:40.194387Z"
    }
   },
   "outputs": [],
   "source": [
    "train2 = all_data2[:len(train)]\n",
    "test2 = all_data2[len(train):]\n",
    "display(train2,test2)"
   ]
  },
  {
   "cell_type": "code",
   "execution_count": null,
   "metadata": {
    "execution": {
     "iopub.execute_input": "2021-05-23T05:51:40.388031Z",
     "iopub.status.busy": "2021-05-23T05:51:40.385963Z",
     "iopub.status.idle": "2021-05-23T05:51:40.397737Z",
     "shell.execute_reply": "2021-05-23T05:51:40.396184Z",
     "shell.execute_reply.started": "2021-05-23T05:51:40.387993Z"
    }
   },
   "outputs": [],
   "source": [
    "# 하이퍼 파라미터 튜닝\n",
    "# 그리드 서치 (경우의 수가 많음, 시간 소요 문제)\n",
    "# 랜덤 서치 (그리드서치 보단 낫지만 모든 경우의 수 찾는 것을 막음, 시간 소요 문제)\n",
    "# 베이지안 튜닝(최신)\n",
    "# 파이썬 으로 모델링\n",
    "# import xgboost as xgb\n",
    "# params = {\"tree_method\":\"gpu_hist\",\"learning_rate\" : 0.02, \"num_class\" : 3, \"objective\" : \"multi:softprob\", \"eval_metric\" : \"mlogloss\",\"reg_alpha\" : 1e-05}\n",
    "# xgb_train = xgb.DMatrix(train2,train[\"credit\"]) # 데이터 선언\n",
    "# result_xgb = xgb.cv(params,xgb_train, num_boost_round = 50, early_stopping_rounds = 50, nfold = 5, stratified = True)"
   ]
  },
  {
   "cell_type": "code",
   "execution_count": null,
   "metadata": {
    "execution": {
     "iopub.execute_input": "2021-05-23T05:51:40.404550Z",
     "iopub.status.busy": "2021-05-23T05:51:40.401542Z",
     "iopub.status.idle": "2021-05-23T05:51:40.410264Z",
     "shell.execute_reply": "2021-05-23T05:51:40.408954Z",
     "shell.execute_reply.started": "2021-05-23T05:51:40.404522Z"
    }
   },
   "outputs": [],
   "source": [
    "#result_xgb[\"test-mlogloss-mean\"].min() # 최적의 점수"
   ]
  },
  {
   "cell_type": "code",
   "execution_count": null,
   "metadata": {
    "execution": {
     "iopub.execute_input": "2021-05-23T05:51:40.413494Z",
     "iopub.status.busy": "2021-05-23T05:51:40.413073Z",
     "iopub.status.idle": "2021-05-23T05:51:40.421461Z",
     "shell.execute_reply": "2021-05-23T05:51:40.419658Z",
     "shell.execute_reply.started": "2021-05-23T05:51:40.413452Z"
    }
   },
   "outputs": [],
   "source": [
    "# def xgb_bayesian(max_depth,colsample_bytree,subsample,colsample_bylevel,learning_rate):\n",
    "#     params = {\"tree_method\":\"gpu_hist\",\"learning_rate\" : learning_rate, \"num_class\" : 3, \n",
    "#               \"objective\" : \"multi:softprob\", \"eval_metric\" : \"mlogloss\",\n",
    "#               \"max_depth\": int(max_depth),\"colsample_bytree\" : colsample_bytree,\n",
    "#               \"subsample\" : subsample, \"colsample_bylevel\" : colsample_bylevel,\n",
    "#               }   \n",
    "#     xgb_train = xgb.DMatrix(train2,train[\"credit\"]) # 데이터 선언\n",
    "#     result_xgb = xgb.cv(params,xgb_train, num_boost_round = 50000, \n",
    "#                         early_stopping_rounds = 50, nfold = 4, stratified = True)\n",
    "#     return -result_xgb[\"test-mlogloss-mean\"].min()"
   ]
  },
  {
   "cell_type": "code",
   "execution_count": null,
   "metadata": {
    "execution": {
     "iopub.execute_input": "2021-05-23T05:51:40.423380Z",
     "iopub.status.busy": "2021-05-23T05:51:40.422922Z",
     "iopub.status.idle": "2021-05-23T05:51:40.430690Z",
     "shell.execute_reply": "2021-05-23T05:51:40.429140Z",
     "shell.execute_reply.started": "2021-05-23T05:51:40.423344Z"
    }
   },
   "outputs": [],
   "source": [
    "# from bayes_opt import BayesianOptimization\n",
    "# bo = BayesianOptimization(xgb_bayesian, {\"max_depth\":(10,20),\"colsample_bytree\":(0.2,0.7),\"subsample\":(0.4,0.8),\n",
    "#                                          \"colsample_bylevel\":(0.3,1),\"learning_rate\":(0.02,0.05)})\n",
    "# bo.maximize(init_points = 20, n_iter = 500)\n",
    "# colsample_level 이 먼저"
   ]
  },
  {
   "cell_type": "code",
   "execution_count": null,
   "metadata": {
    "execution": {
     "iopub.execute_input": "2021-05-23T06:05:24.635996Z",
     "iopub.status.busy": "2021-05-23T06:05:24.635634Z",
     "iopub.status.idle": "2021-05-23T06:42:33.869674Z",
     "shell.execute_reply": "2021-05-23T06:42:33.868799Z",
     "shell.execute_reply.started": "2021-05-23T06:05:24.635956Z"
    }
   },
   "outputs": [],
   "source": [
    "n = 0\n",
    "result = 0 \n",
    "from sklearn.model_selection import StratifiedKFold\n",
    "skf = StratifiedKFold(n_splits = 20,random_state = 82, shuffle = True) \n",
    "from xgboost import XGBClassifier\n",
    "xgb = XGBClassifier(tree_method = \"gpu_hist\",n_estimators= 50000,learning_rate = 0.02,max_depth = 19,subsample=0.7,colsample_bytree=0.8,\n",
    "                    colsample_bylevel=0.6,colsample_bynode = 0.3,reg_alpha=1e-05,reg_lambda = 1.5)\n",
    "best_score = 0\n",
    "for train_index, valid_index in skf.split(train2,train[\"credit\"]):\n",
    "    X_train , X_valid = train2.iloc[train_index] , train2.iloc[valid_index]\n",
    "    y_train , y_valid = train[\"credit\"].iloc[train_index] , train[\"credit\"].iloc[valid_index]    \n",
    "    xgb.fit(X_train,y_train,eval_set=[(X_valid,y_valid)],early_stopping_rounds = 50,verbose=50) \n",
    "    n += 1\n",
    "    print(f\"{n}회\")\n",
    "    best_score += xgb.best_score/20\n",
    "    result += xgb.predict_proba(test2)/20\n"
   ]
  },
  {
   "cell_type": "code",
   "execution_count": null,
   "metadata": {
    "execution": {
     "iopub.execute_input": "2021-05-23T06:42:33.871900Z",
     "iopub.status.busy": "2021-05-23T06:42:33.871543Z",
     "iopub.status.idle": "2021-05-23T06:42:33.879184Z",
     "shell.execute_reply": "2021-05-23T06:42:33.878041Z",
     "shell.execute_reply.started": "2021-05-23T06:42:33.871864Z"
    }
   },
   "outputs": [],
   "source": [
    "best_score "
   ]
  },
  {
   "cell_type": "code",
   "execution_count": null,
   "metadata": {
    "execution": {
     "iopub.execute_input": "2021-05-23T06:42:33.881318Z",
     "iopub.status.busy": "2021-05-23T06:42:33.880769Z",
     "iopub.status.idle": "2021-05-23T06:42:33.905968Z",
     "shell.execute_reply": "2021-05-23T06:42:33.905206Z",
     "shell.execute_reply.started": "2021-05-23T06:42:33.881284Z"
    }
   },
   "outputs": [],
   "source": [
    "sub = pd.read_csv(\"../input/dacon/sample_submission.csv\")\n",
    "sub"
   ]
  },
  {
   "cell_type": "code",
   "execution_count": null,
   "metadata": {
    "execution": {
     "iopub.execute_input": "2021-05-23T06:42:33.907665Z",
     "iopub.status.busy": "2021-05-23T06:42:33.907296Z",
     "iopub.status.idle": "2021-05-23T06:42:33.931992Z",
     "shell.execute_reply": "2021-05-23T06:42:33.931011Z",
     "shell.execute_reply.started": "2021-05-23T06:42:33.907627Z"
    }
   },
   "outputs": [],
   "source": [
    "sub.iloc[:,1:] = result\n",
    "sub"
   ]
  },
  {
   "cell_type": "code",
   "execution_count": null,
   "metadata": {
    "execution": {
     "iopub.execute_input": "2021-05-23T06:42:33.934273Z",
     "iopub.status.busy": "2021-05-23T06:42:33.933898Z",
     "iopub.status.idle": "2021-05-23T06:42:34.017282Z",
     "shell.execute_reply": "2021-05-23T06:42:34.016561Z",
     "shell.execute_reply.started": "2021-05-23T06:42:33.934237Z"
    }
   },
   "outputs": [],
   "source": [
    "sub.to_csv(\"sub_최종.csv\",index=False)"
   ]
  }
 ],
 "metadata": {
  "kernelspec": {
   "display_name": "Python 3 (ipykernel)",
   "language": "python",
   "name": "python3"
  },
  "language_info": {
   "codemirror_mode": {
    "name": "ipython",
    "version": 3
   },
   "file_extension": ".py",
   "mimetype": "text/x-python",
   "name": "python",
   "nbconvert_exporter": "python",
   "pygments_lexer": "ipython3",
   "version": "3.8.16"
  }
 },
 "nbformat": 4,
 "nbformat_minor": 4
}
