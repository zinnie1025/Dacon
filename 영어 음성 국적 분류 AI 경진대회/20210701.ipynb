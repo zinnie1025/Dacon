{
 "cells": [
  {
   "cell_type": "code",
   "execution_count": null,
   "metadata": {
    "execution": {
     "iopub.execute_input": "2021-07-01T10:26:31.503287Z",
     "iopub.status.busy": "2021-07-01T10:26:31.502898Z",
     "iopub.status.idle": "2021-07-01T10:26:33.428073Z",
     "shell.execute_reply": "2021-07-01T10:26:33.427208Z",
     "shell.execute_reply.started": "2021-07-01T10:26:31.503207Z"
    }
   },
   "outputs": [],
   "source": [
    "import librosa\n",
    "import pandas as pd\n",
    "import numpy as np"
   ]
  },
  {
   "cell_type": "code",
   "execution_count": null,
   "metadata": {
    "execution": {
     "iopub.execute_input": "2021-07-01T10:26:33.430513Z",
     "iopub.status.busy": "2021-07-01T10:26:33.430127Z",
     "iopub.status.idle": "2021-07-01T10:26:33.538430Z",
     "shell.execute_reply": "2021-07-01T10:26:33.535391Z",
     "shell.execute_reply.started": "2021-07-01T10:26:33.430474Z"
    }
   },
   "outputs": [],
   "source": [
    "import glob"
   ]
  },
  {
   "cell_type": "code",
   "execution_count": null,
   "metadata": {
    "execution": {
     "iopub.execute_input": "2021-07-01T10:27:01.746901Z",
     "iopub.status.busy": "2021-07-01T10:27:01.746578Z",
     "iopub.status.idle": "2021-07-01T10:27:03.372701Z",
     "shell.execute_reply": "2021-07-01T10:27:03.371749Z",
     "shell.execute_reply.started": "2021-07-01T10:27:01.746864Z"
    }
   },
   "outputs": [],
   "source": [
    "pd.options.display.max_colwidth = 9999\n",
    "train = pd.DataFrame({\"path\":glob.glob(\"/kaggle/input/dacon-audio/train/*/*\")})"
   ]
  },
  {
   "cell_type": "code",
   "execution_count": null,
   "metadata": {
    "execution": {
     "iopub.execute_input": "2021-07-01T10:27:03.374585Z",
     "iopub.status.busy": "2021-07-01T10:27:03.374269Z",
     "iopub.status.idle": "2021-07-01T10:27:03.405759Z",
     "shell.execute_reply": "2021-07-01T10:27:03.404635Z",
     "shell.execute_reply.started": "2021-07-01T10:27:03.374551Z"
    }
   },
   "outputs": [],
   "source": [
    "train[\"ans\"] = train[\"path\"].apply(lambda x:x.split(\"/\")[-2])\n",
    "train"
   ]
  },
  {
   "cell_type": "code",
   "execution_count": null,
   "metadata": {
    "execution": {
     "iopub.execute_input": "2021-07-01T10:27:05.181688Z",
     "iopub.status.busy": "2021-07-01T10:27:05.181370Z",
     "iopub.status.idle": "2021-07-01T10:27:05.199774Z",
     "shell.execute_reply": "2021-07-01T10:27:05.198885Z",
     "shell.execute_reply.started": "2021-07-01T10:27:05.181662Z"
    }
   },
   "outputs": [],
   "source": [
    "# 데이터를 랜덤하게 추출 sample 함수\n",
    "train = train.sample(8000)\n",
    "train"
   ]
  },
  {
   "cell_type": "code",
   "execution_count": null,
   "metadata": {
    "execution": {
     "iopub.execute_input": "2021-07-01T10:27:11.037780Z",
     "iopub.status.busy": "2021-07-01T10:27:11.037462Z",
     "iopub.status.idle": "2021-07-01T10:27:11.041467Z",
     "shell.execute_reply": "2021-07-01T10:27:11.040599Z",
     "shell.execute_reply.started": "2021-07-01T10:27:11.037751Z"
    }
   },
   "outputs": [],
   "source": [
    "# 모든 데이터에 적용하기\n",
    "from tqdm import tqdm\n",
    "# mel_list = []\n",
    "# for i in tqdm(train[\"path\"]):\n",
    "#     audio,sr = librosa.load(i,duration = 5, res_type = \"kaiser_fast\")\n",
    "#     mel = librosa.feature.melspectrogram(audio)\n",
    "#     mel_list.append(mel)\n",
    "# mfcc와 같은 방식이되, 대신 mfcc는 압축을 좀 더 많이 하는 느낌이고, melspectogram이 이미지 크기가 좀 더 큼"
   ]
  },
  {
   "cell_type": "code",
   "execution_count": null,
   "metadata": {
    "execution": {
     "iopub.execute_input": "2021-07-01T10:29:47.921961Z",
     "iopub.status.busy": "2021-07-01T10:29:47.921607Z",
     "iopub.status.idle": "2021-07-01T10:29:48.228588Z",
     "shell.execute_reply": "2021-07-01T10:29:48.227729Z",
     "shell.execute_reply.started": "2021-07-01T10:29:47.921919Z"
    }
   },
   "outputs": [],
   "source": [
    "mel_list = np.load(\"../input/realmel/mel_list.npy\") # mel_list 설명 + 점수 좋지 않음"
   ]
  },
  {
   "cell_type": "code",
   "execution_count": null,
   "metadata": {
    "execution": {
     "iopub.execute_input": "2021-07-01T10:28:59.496354Z",
     "iopub.status.busy": "2021-07-01T10:28:59.496016Z",
     "iopub.status.idle": "2021-07-01T10:28:59.520940Z",
     "shell.execute_reply": "2021-07-01T10:28:59.519440Z",
     "shell.execute_reply.started": "2021-07-01T10:28:59.496325Z"
    }
   },
   "outputs": [],
   "source": [
    "# mel_list = np.array(mel_list, dtype = np.float32).reshape(-1,128,216,1)\n",
    "# mel_list.shape"
   ]
  },
  {
   "cell_type": "code",
   "execution_count": null,
   "metadata": {
    "execution": {
     "iopub.execute_input": "2021-07-01T08:44:54.745356Z",
     "iopub.status.busy": "2021-07-01T08:44:54.745095Z",
     "iopub.status.idle": "2021-07-01T08:44:55.327858Z",
     "shell.execute_reply": "2021-07-01T08:44:55.326993Z",
     "shell.execute_reply.started": "2021-07-01T08:44:54.745333Z"
    }
   },
   "outputs": [],
   "source": [
    "# np.save(\"mel_list\",mel_list)"
   ]
  },
  {
   "cell_type": "code",
   "execution_count": null,
   "metadata": {
    "execution": {
     "iopub.execute_input": "2021-07-01T10:27:49.550161Z",
     "iopub.status.busy": "2021-07-01T10:27:49.549834Z",
     "iopub.status.idle": "2021-07-01T10:27:49.560425Z",
     "shell.execute_reply": "2021-07-01T10:27:49.559610Z",
     "shell.execute_reply.started": "2021-07-01T10:27:49.550117Z"
    }
   },
   "outputs": [],
   "source": [
    "train[\"ans\"].value_counts()"
   ]
  },
  {
   "cell_type": "code",
   "execution_count": null,
   "metadata": {
    "execution": {
     "iopub.execute_input": "2021-07-01T10:27:50.171204Z",
     "iopub.status.busy": "2021-07-01T10:27:50.170859Z",
     "iopub.status.idle": "2021-07-01T10:27:50.184980Z",
     "shell.execute_reply": "2021-07-01T10:27:50.183983Z",
     "shell.execute_reply.started": "2021-07-01T10:27:50.171174Z"
    }
   },
   "outputs": [],
   "source": [
    "train[\"ans\"] = train[\"ans\"].replace({\"africa\":0,\"australia\":1,\"canada\":2,\"england\":3,\"hongkong\":4,\"us\":5})"
   ]
  },
  {
   "cell_type": "code",
   "execution_count": null,
   "metadata": {
    "execution": {
     "iopub.execute_input": "2021-07-01T10:27:51.316995Z",
     "iopub.status.busy": "2021-07-01T10:27:51.316672Z",
     "iopub.status.idle": "2021-07-01T10:27:51.776982Z",
     "shell.execute_reply": "2021-07-01T10:27:51.776122Z",
     "shell.execute_reply.started": "2021-07-01T10:27:51.316966Z"
    }
   },
   "outputs": [],
   "source": [
    "test = pd.DataFrame({\"path\":glob.glob(\"/kaggle/input/dacon-audio/test/*\")})\n",
    "test"
   ]
  },
  {
   "cell_type": "code",
   "execution_count": null,
   "metadata": {
    "execution": {
     "iopub.execute_input": "2021-07-01T10:27:51.825947Z",
     "iopub.status.busy": "2021-07-01T10:27:51.825684Z",
     "iopub.status.idle": "2021-07-01T10:27:51.846113Z",
     "shell.execute_reply": "2021-07-01T10:27:51.845155Z",
     "shell.execute_reply.started": "2021-07-01T10:27:51.825922Z"
    }
   },
   "outputs": [],
   "source": [
    "test[\"num\"] = test[\"path\"].apply(lambda x:x.split('/')[-1].split('.')[0]).astype(\"int\")\n",
    "test = test.sort_values(\"num\").reset_index(drop=True)\n",
    "test"
   ]
  },
  {
   "cell_type": "code",
   "execution_count": null,
   "metadata": {
    "execution": {
     "iopub.execute_input": "2021-07-01T08:44:55.727324Z",
     "iopub.status.busy": "2021-07-01T08:44:55.727025Z",
     "iopub.status.idle": "2021-07-01T09:13:54.171137Z",
     "shell.execute_reply": "2021-07-01T09:13:54.170181Z",
     "shell.execute_reply.started": "2021-07-01T08:44:55.727291Z"
    }
   },
   "outputs": [],
   "source": [
    "from tqdm import tqdm\n",
    "# test_mel = []\n",
    "# for i in tqdm(test[\"path\"]):\n",
    "#     audio, sr = librosa.load(i,duration = 5) \n",
    "#     mel = librosa.feature.melspectrogram(audio)\n",
    "#     test_mel.append(mel)"
   ]
  },
  {
   "cell_type": "code",
   "execution_count": null,
   "metadata": {
    "execution": {
     "iopub.execute_input": "2021-07-01T09:13:54.172899Z",
     "iopub.status.busy": "2021-07-01T09:13:54.172537Z",
     "iopub.status.idle": "2021-07-01T09:13:54.421875Z",
     "shell.execute_reply": "2021-07-01T09:13:54.421044Z",
     "shell.execute_reply.started": "2021-07-01T09:13:54.172860Z"
    }
   },
   "outputs": [],
   "source": [
    "#test_mel = np.array(test_mel, dtype = np.float32).reshape(-1,128,216,1)"
   ]
  },
  {
   "cell_type": "code",
   "execution_count": null,
   "metadata": {
    "execution": {
     "iopub.execute_input": "2021-07-01T09:13:54.423553Z",
     "iopub.status.busy": "2021-07-01T09:13:54.423215Z",
     "iopub.status.idle": "2021-07-01T09:13:54.908419Z",
     "shell.execute_reply": "2021-07-01T09:13:54.907522Z",
     "shell.execute_reply.started": "2021-07-01T09:13:54.423517Z"
    }
   },
   "outputs": [],
   "source": [
    "#np.save(\"test_mel\",test_mel)"
   ]
  },
  {
   "cell_type": "code",
   "execution_count": null,
   "metadata": {
    "execution": {
     "iopub.execute_input": "2021-07-01T10:30:04.689993Z",
     "iopub.status.busy": "2021-07-01T10:30:04.689672Z",
     "iopub.status.idle": "2021-07-01T10:30:04.931872Z",
     "shell.execute_reply": "2021-07-01T10:30:04.931007Z",
     "shell.execute_reply.started": "2021-07-01T10:30:04.689965Z"
    }
   },
   "outputs": [],
   "source": [
    "test_mel = np.load(\"../input/realmel/test_mel.npy\")"
   ]
  },
  {
   "cell_type": "code",
   "execution_count": null,
   "metadata": {
    "execution": {
     "iopub.execute_input": "2021-07-01T10:28:31.029329Z",
     "iopub.status.busy": "2021-07-01T10:28:31.028983Z",
     "iopub.status.idle": "2021-07-01T10:28:36.140321Z",
     "shell.execute_reply": "2021-07-01T10:28:36.139374Z",
     "shell.execute_reply.started": "2021-07-01T10:28:31.029299Z"
    }
   },
   "outputs": [],
   "source": [
    "from keras import *\n",
    "from keras.layers import *\n",
    "from keras.callbacks import *\n",
    "from keras.optimizers import Adam"
   ]
  },
  {
   "cell_type": "code",
   "execution_count": null,
   "metadata": {
    "execution": {
     "iopub.execute_input": "2021-07-01T10:30:07.999832Z",
     "iopub.status.busy": "2021-07-01T10:30:07.999367Z",
     "iopub.status.idle": "2021-07-01T10:40:37.875207Z",
     "shell.execute_reply": "2021-07-01T10:40:37.874358Z",
     "shell.execute_reply.started": "2021-07-01T10:30:07.999796Z"
    }
   },
   "outputs": [],
   "source": [
    "best_score = 0\n",
    "result = 0\n",
    "i = 0\n",
    "from sklearn.model_selection import StratifiedKFold\n",
    "skf = StratifiedKFold(n_splits = 5, shuffle = True, random_state = 82)\n",
    "for train_index, valid_index in skf.split(mel_list, train[\"ans\"]):\n",
    "    i += 1\n",
    "    \n",
    "    print(f\"{i}회\")\n",
    "    X_train, X_valid = mel_list[train_index], mel_list[valid_index]\n",
    "    y_train, y_valid = train[\"ans\"].iloc[train_index], train[\"ans\"].iloc[valid_index]\n",
    "    es = EarlyStopping(patience = 20, verbose = 1)\n",
    "    mc = ModelCheckpoint(f\"best{i}.h5\",save_best_only = True, verbose = 1) \n",
    "    rl = ReduceLROnPlateau(patience = 15, verbose = 1,factor = 0.25,min_lr = 1e-6) \n",
    "    model = Sequential()\n",
    "    model.add(Conv2D(16,(2,2),activation = \"elu\",input_shape = (20,216,1), padding = \"same\"))\n",
    "    model.add(MaxPool2D())\n",
    "    model.add(Conv2D(32,(2,2),activation = \"elu\",padding = \"same\"))\n",
    "    model.add(MaxPool2D())\n",
    "    model.add(Conv2D(64,(2,2),activation = \"elu\",padding = \"same\"))\n",
    "    model.add(MaxPool2D())\n",
    "    model.add(GlobalAvgPool2D()) # 상대적으로 지역적인 정보가 덜 날아감 flatten 대신\n",
    "    model.add(Dense(6,activation = \"softmax\"))\n",
    "    model.compile(metrics = [\"acc\"], optimizer = Adam(lr = 0.0001), loss = \"sparse_categorical_crossentropy\") \n",
    "    history = model.fit(X_train,y_train,epochs = 500,validation_data = (X_valid,y_valid) ,callbacks = [es,mc,rl])\n",
    "    \n",
    "    model.load_weights(f\"best{i}.h5\")\n",
    "    result += model.predict(test_mel, verbose = 1) / 5\n",
    "    best_score += np.min(history.history[\"val_loss\"]) / 5"
   ]
  },
  {
   "cell_type": "code",
   "execution_count": null,
   "metadata": {
    "execution": {
     "iopub.execute_input": "2021-07-01T10:40:37.879592Z",
     "iopub.status.busy": "2021-07-01T10:40:37.879295Z",
     "iopub.status.idle": "2021-07-01T10:40:37.886445Z",
     "shell.execute_reply": "2021-07-01T10:40:37.885406Z",
     "shell.execute_reply.started": "2021-07-01T10:40:37.879562Z"
    }
   },
   "outputs": [],
   "source": [
    "best_score"
   ]
  },
  {
   "cell_type": "code",
   "execution_count": null,
   "metadata": {
    "execution": {
     "iopub.execute_input": "2021-07-01T10:40:37.889017Z",
     "iopub.status.busy": "2021-07-01T10:40:37.888627Z",
     "iopub.status.idle": "2021-07-01T10:40:37.899595Z",
     "shell.execute_reply": "2021-07-01T10:40:37.898581Z",
     "shell.execute_reply.started": "2021-07-01T10:40:37.888980Z"
    }
   },
   "outputs": [],
   "source": [
    "result"
   ]
  },
  {
   "cell_type": "code",
   "execution_count": null,
   "metadata": {
    "execution": {
     "iopub.execute_input": "2021-07-01T09:40:33.340367Z",
     "iopub.status.busy": "2021-07-01T09:40:33.340058Z",
     "iopub.status.idle": "2021-07-01T09:40:33.647361Z",
     "shell.execute_reply": "2021-07-01T09:40:33.646426Z",
     "shell.execute_reply.started": "2021-07-01T09:40:33.340339Z"
    }
   },
   "outputs": [],
   "source": [
    "sub = pd.read_csv(\"/kaggle/input/dacon-audio/sample_submission.csv\")\n",
    "#sub.iloc[:,1:] = result\n",
    "# sub1 = pd.read_csv(\"\")\n",
    "# sub2 = pd.read_csv(\"\")\n",
    "# sub.iloc[:,1:] = sub1.iloc[:,1:] * 0.7 + sub1.iloc[:,1:] * 0.3\n",
    "sub.to_csv(\"sub_mel.csv\",index=False)"
   ]
  }
 ],
 "metadata": {
  "kernelspec": {
   "display_name": "Python 3",
   "language": "python",
   "name": "python3"
  },
  "language_info": {
   "codemirror_mode": {
    "name": "ipython",
    "version": 3
   },
   "file_extension": ".py",
   "mimetype": "text/x-python",
   "name": "python",
   "nbconvert_exporter": "python",
   "pygments_lexer": "ipython3",
   "version": "3.7.0"
  }
 },
 "nbformat": 4,
 "nbformat_minor": 4
}
