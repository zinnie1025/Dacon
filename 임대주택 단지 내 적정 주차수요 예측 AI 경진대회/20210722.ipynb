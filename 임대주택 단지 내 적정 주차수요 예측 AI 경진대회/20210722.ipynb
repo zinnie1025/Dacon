{
 "cells": [
  {
   "cell_type": "code",
   "execution_count": null,
   "metadata": {
    "execution": {
     "iopub.execute_input": "2021-07-22T13:30:48.104141Z",
     "iopub.status.busy": "2021-07-22T13:30:48.103769Z",
     "iopub.status.idle": "2021-07-22T13:30:48.237900Z",
     "shell.execute_reply": "2021-07-22T13:30:48.236875Z",
     "shell.execute_reply.started": "2021-07-22T13:30:48.104110Z"
    }
   },
   "outputs": [],
   "source": [
    "import pandas as pd\n",
    "import numpy as np\n",
    "train = pd.read_csv(\"../input/car-car/train.csv\")\n",
    "test = pd.read_csv(\"../input/car-car/test.csv\")\n",
    "age = pd.read_csv(\"../input/car-car/age_gender_info.csv\")\n",
    "display(train,test,age)"
   ]
  },
  {
   "cell_type": "code",
   "execution_count": null,
   "metadata": {
    "execution": {
     "iopub.execute_input": "2021-07-22T13:30:48.241450Z",
     "iopub.status.busy": "2021-07-22T13:30:48.241124Z",
     "iopub.status.idle": "2021-07-22T13:30:48.250035Z",
     "shell.execute_reply": "2021-07-22T13:30:48.248937Z",
     "shell.execute_reply.started": "2021-07-22T13:30:48.241420Z"
    }
   },
   "outputs": [],
   "source": [
    "drop_index = train[train[\"자격유형\"] == \"O\"].index\n",
    "drop_index"
   ]
  },
  {
   "cell_type": "code",
   "execution_count": null,
   "metadata": {
    "execution": {
     "iopub.execute_input": "2021-07-22T13:30:48.252339Z",
     "iopub.status.busy": "2021-07-22T13:30:48.251996Z",
     "iopub.status.idle": "2021-07-22T13:30:48.265678Z",
     "shell.execute_reply": "2021-07-22T13:30:48.264479Z",
     "shell.execute_reply.started": "2021-07-22T13:30:48.252309Z"
    }
   },
   "outputs": [],
   "source": [
    "train = train.drop(drop_index)"
   ]
  },
  {
   "cell_type": "code",
   "execution_count": null,
   "metadata": {
    "execution": {
     "iopub.execute_input": "2021-07-22T13:30:48.268036Z",
     "iopub.status.busy": "2021-07-22T13:30:48.267707Z",
     "iopub.status.idle": "2021-07-22T13:30:48.315415Z",
     "shell.execute_reply": "2021-07-22T13:30:48.314345Z",
     "shell.execute_reply.started": "2021-07-22T13:30:48.268007Z"
    }
   },
   "outputs": [],
   "source": [
    "all_data = pd.concat([train,test])\n",
    "all_data"
   ]
  },
  {
   "cell_type": "code",
   "execution_count": null,
   "metadata": {
    "execution": {
     "iopub.execute_input": "2021-07-22T13:30:48.316979Z",
     "iopub.status.busy": "2021-07-22T13:30:48.316700Z",
     "iopub.status.idle": "2021-07-22T13:30:48.328482Z",
     "shell.execute_reply": "2021-07-22T13:30:48.327460Z",
     "shell.execute_reply.started": "2021-07-22T13:30:48.316953Z"
    }
   },
   "outputs": [],
   "source": [
    "pd.options.display.max_columns = 9999\n",
    "all_data = pd.merge(all_data, age, how = \"left\" ,on = \"지역\")"
   ]
  },
  {
   "cell_type": "code",
   "execution_count": null,
   "metadata": {
    "execution": {
     "iopub.execute_input": "2021-07-22T13:30:48.330195Z",
     "iopub.status.busy": "2021-07-22T13:30:48.329895Z",
     "iopub.status.idle": "2021-07-22T13:30:48.356980Z",
     "shell.execute_reply": "2021-07-22T13:30:48.356050Z",
     "shell.execute_reply.started": "2021-07-22T13:30:48.330147Z"
    }
   },
   "outputs": [],
   "source": [
    "cat = all_data.groupby(\"총세대수\")[all_data.columns[all_data.dtypes == \"object\"]].nunique().add_prefix(\"nuni\")\n",
    "all_data = all_data.join(cat,on = \"총세대수\")"
   ]
  },
  {
   "cell_type": "code",
   "execution_count": null,
   "metadata": {
    "execution": {
     "iopub.execute_input": "2021-07-22T13:30:48.358545Z",
     "iopub.status.busy": "2021-07-22T13:30:48.358268Z",
     "iopub.status.idle": "2021-07-22T13:30:48.376196Z",
     "shell.execute_reply": "2021-07-22T13:30:48.375255Z",
     "shell.execute_reply.started": "2021-07-22T13:30:48.358518Z"
    }
   },
   "outputs": [],
   "source": [
    "car_fm =all_data.groupby(\"단지내주차면수\")[\"전용면적별세대수\"].agg(len).to_frame(\"car_fm\")\n",
    "all_data = all_data.join(car_fm, on = \"단지내주차면수\")"
   ]
  },
  {
   "cell_type": "code",
   "execution_count": null,
   "metadata": {
    "execution": {
     "iopub.execute_input": "2021-07-22T13:30:48.379172Z",
     "iopub.status.busy": "2021-07-22T13:30:48.378879Z",
     "iopub.status.idle": "2021-07-22T13:30:48.399311Z",
     "shell.execute_reply": "2021-07-22T13:30:48.398218Z",
     "shell.execute_reply.started": "2021-07-22T13:30:48.379143Z"
    }
   },
   "outputs": [],
   "source": [
    "region = all_data.groupby([\"지역\",\"임대건물구분\"])[\"전용면적\"].agg([\"count\",\"sum\",\"mean\",\"min\",\"max\",\"median\",\"std\"]).add_prefix(\"r_\")\n",
    "all_data = all_data.join(region, on = [\"지역\",\"임대건물구분\"])"
   ]
  },
  {
   "cell_type": "code",
   "execution_count": null,
   "metadata": {
    "execution": {
     "iopub.execute_input": "2021-07-22T13:30:48.401308Z",
     "iopub.status.busy": "2021-07-22T13:30:48.401025Z",
     "iopub.status.idle": "2021-07-22T13:30:48.412151Z",
     "shell.execute_reply": "2021-07-22T13:30:48.411286Z",
     "shell.execute_reply.started": "2021-07-22T13:30:48.401280Z"
    }
   },
   "outputs": [],
   "source": [
    "type_per = all_data.groupby(\"단지코드\")[\"자격유형\"].nunique().to_frame(\"type_per\")\n",
    "all_data = all_data.join(type_per, on = \"단지코드\")"
   ]
  },
  {
   "cell_type": "code",
   "execution_count": null,
   "metadata": {
    "execution": {
     "iopub.execute_input": "2021-07-22T13:30:48.413628Z",
     "iopub.status.busy": "2021-07-22T13:30:48.413330Z",
     "iopub.status.idle": "2021-07-22T13:30:48.423269Z",
     "shell.execute_reply": "2021-07-22T13:30:48.422243Z",
     "shell.execute_reply.started": "2021-07-22T13:30:48.413602Z"
    }
   },
   "outputs": [],
   "source": [
    "all_data[\"va-bus\"] = all_data[\"공가수\"] * all_data[\"도보 10분거리 내 버스정류장 수\"]"
   ]
  },
  {
   "cell_type": "code",
   "execution_count": null,
   "metadata": {
    "execution": {
     "iopub.execute_input": "2021-07-22T13:30:48.424880Z",
     "iopub.status.busy": "2021-07-22T13:30:48.424417Z",
     "iopub.status.idle": "2021-07-22T13:30:48.438332Z",
     "shell.execute_reply": "2021-07-22T13:30:48.437561Z",
     "shell.execute_reply.started": "2021-07-22T13:30:48.424827Z"
    }
   },
   "outputs": [],
   "source": [
    "all_data[\"traffic\"] = np.where(((all_data[\"도보 10분거리 내 버스정류장 수\"] == 6) | (all_data[\"도보 10분거리 내 지하철역 수(환승노선 수 반영)\"] == 2)),1,0)"
   ]
  },
  {
   "cell_type": "code",
   "execution_count": null,
   "metadata": {
    "execution": {
     "iopub.execute_input": "2021-07-22T13:30:48.439766Z",
     "iopub.status.busy": "2021-07-22T13:30:48.439377Z",
     "iopub.status.idle": "2021-07-22T13:30:48.456704Z",
     "shell.execute_reply": "2021-07-22T13:30:48.455917Z",
     "shell.execute_reply.started": "2021-07-22T13:30:48.439738Z"
    }
   },
   "outputs": [],
   "source": [
    "all_data[\"type_va\"] = np.where(((all_data[\"공급유형\"] == \"공공임대(10년)\") & (all_data[\"공가수\"] > 2)),1,0)"
   ]
  },
  {
   "cell_type": "code",
   "execution_count": null,
   "metadata": {
    "execution": {
     "iopub.execute_input": "2021-07-22T13:30:48.458281Z",
     "iopub.status.busy": "2021-07-22T13:30:48.457861Z",
     "iopub.status.idle": "2021-07-22T13:30:48.481077Z",
     "shell.execute_reply": "2021-07-22T13:30:48.479900Z",
     "shell.execute_reply.started": "2021-07-22T13:30:48.458245Z"
    }
   },
   "outputs": [],
   "source": [
    "b_type = all_data.groupby([\"공급유형\",\"지역\"])[\"전용면적별세대수\"].agg([\"count\",\"max\"]).add_prefix(\"b_\")\n",
    "all_data = all_data.join(b_type, on = [\"공급유형\",\"지역\"])"
   ]
  },
  {
   "cell_type": "code",
   "execution_count": null,
   "metadata": {
    "execution": {
     "iopub.execute_input": "2021-07-22T13:30:48.483392Z",
     "iopub.status.busy": "2021-07-22T13:30:48.482801Z",
     "iopub.status.idle": "2021-07-22T13:30:48.525600Z",
     "shell.execute_reply": "2021-07-22T13:30:48.524873Z",
     "shell.execute_reply.started": "2021-07-22T13:30:48.483338Z"
    }
   },
   "outputs": [],
   "source": [
    "pd.options.display.max_rows = 999\n",
    "all_data.corr()[\"등록차량수\"].sort_values(ascending=False)"
   ]
  },
  {
   "cell_type": "code",
   "execution_count": null,
   "metadata": {
    "execution": {
     "iopub.execute_input": "2021-07-22T13:30:48.527168Z",
     "iopub.status.busy": "2021-07-22T13:30:48.526730Z",
     "iopub.status.idle": "2021-07-22T13:30:48.604321Z",
     "shell.execute_reply": "2021-07-22T13:30:48.603294Z",
     "shell.execute_reply.started": "2021-07-22T13:30:48.527128Z"
    }
   },
   "outputs": [],
   "source": [
    "all_data2 = all_data.drop(columns=[\"등록차량수\",\"단지코드\"])\n",
    "all_data2"
   ]
  },
  {
   "cell_type": "code",
   "execution_count": null,
   "metadata": {
    "execution": {
     "iopub.execute_input": "2021-07-22T13:30:48.605946Z",
     "iopub.status.busy": "2021-07-22T13:30:48.605602Z",
     "iopub.status.idle": "2021-07-22T13:30:48.695147Z",
     "shell.execute_reply": "2021-07-22T13:30:48.694088Z",
     "shell.execute_reply.started": "2021-07-22T13:30:48.605907Z"
    }
   },
   "outputs": [],
   "source": [
    "from sklearn.preprocessing import LabelEncoder\n",
    "le = LabelEncoder()\n",
    "for i in all_data2.columns[all_data2.dtypes == \"object\"]:\n",
    "    all_data2[i] = le.fit_transform(list(all_data2[i]))\n",
    "all_data2"
   ]
  },
  {
   "cell_type": "code",
   "execution_count": null,
   "metadata": {
    "execution": {
     "iopub.execute_input": "2021-07-22T13:30:48.697092Z",
     "iopub.status.busy": "2021-07-22T13:30:48.696602Z",
     "iopub.status.idle": "2021-07-22T13:30:48.701831Z",
     "shell.execute_reply": "2021-07-22T13:30:48.700827Z",
     "shell.execute_reply.started": "2021-07-22T13:30:48.697043Z"
    }
   },
   "outputs": [],
   "source": [
    "train2 = all_data2[:len(train)]\n",
    "test2 = all_data2[len(train):]"
   ]
  },
  {
   "cell_type": "code",
   "execution_count": null,
   "metadata": {
    "execution": {
     "iopub.execute_input": "2021-07-22T13:30:48.703801Z",
     "iopub.status.busy": "2021-07-22T13:30:48.703388Z",
     "iopub.status.idle": "2021-07-22T13:46:39.690173Z",
     "shell.execute_reply": "2021-07-22T13:46:39.689349Z",
     "shell.execute_reply.started": "2021-07-22T13:30:48.703759Z"
    }
   },
   "outputs": [],
   "source": [
    "result = 0\n",
    "best_score = 0\n",
    "from sklearn.model_selection import KFold\n",
    "from catboost import CatBoostRegressor\n",
    "kf = KFold(n_splits = 5, shuffle = True, random_state = 82)\n",
    "for train_index, valid_index in kf.split(train2):\n",
    "    X_train, X_valid = train2.iloc[train_index], train2.iloc[valid_index]\n",
    "    y_train, y_valid = np.log(train[\"등록차량수\"]).iloc[train_index], np.log(train[\"등록차량수\"]).iloc[valid_index]\n",
    "    cbr = CatBoostRegressor(verbose = 2000,eval_metric = \"MAE\",iterations = 1000000,learning_rate = 0.012911)\n",
    "    cbr.fit(X_train,y_train,eval_set=(X_valid,y_valid),early_stopping_rounds=50,cat_features = [1,2,3,7])\n",
    "    result += cbr.predict(test2) / 5\n",
    "    best_score += cbr.best_score_[\"validation\"][\"MAE\"] / 5\n",
    "result"
   ]
  },
  {
   "cell_type": "code",
   "execution_count": null,
   "metadata": {
    "execution": {
     "iopub.execute_input": "2021-07-22T13:46:39.691653Z",
     "iopub.status.busy": "2021-07-22T13:46:39.691376Z",
     "iopub.status.idle": "2021-07-22T13:46:39.697858Z",
     "shell.execute_reply": "2021-07-22T13:46:39.696894Z",
     "shell.execute_reply.started": "2021-07-22T13:46:39.691626Z"
    }
   },
   "outputs": [],
   "source": [
    "best_score # 0.0178"
   ]
  },
  {
   "cell_type": "code",
   "execution_count": null,
   "metadata": {
    "execution": {
     "iopub.execute_input": "2021-07-22T13:46:39.699373Z",
     "iopub.status.busy": "2021-07-22T13:46:39.699061Z",
     "iopub.status.idle": "2021-07-22T13:46:40.074673Z",
     "shell.execute_reply": "2021-07-22T13:46:40.073687Z",
     "shell.execute_reply.started": "2021-07-22T13:46:39.699345Z"
    }
   },
   "outputs": [],
   "source": [
    "import warnings\n",
    "warnings.filterwarnings(\"ignore\")\n",
    "import matplotlib.pyplot as plt\n",
    "import seaborn as sns\n",
    "plt.figure(figsize = (16,8))\n",
    "sns.displot((np.log(train[\"등록차량수\"])))"
   ]
  },
  {
   "cell_type": "code",
   "execution_count": null,
   "metadata": {
    "execution": {
     "iopub.execute_input": "2021-07-22T13:46:40.075996Z",
     "iopub.status.busy": "2021-07-22T13:46:40.075690Z",
     "iopub.status.idle": "2021-07-22T13:46:40.088044Z",
     "shell.execute_reply": "2021-07-22T13:46:40.087008Z",
     "shell.execute_reply.started": "2021-07-22T13:46:40.075966Z"
    }
   },
   "outputs": [],
   "source": [
    "result_df = pd.DataFrame({\"단지코드\":test[\"단지코드\"],\"result\":np.exp(result)})\n",
    "a = result_df.groupby(\"단지코드\")[\"result\"].mean().reset_index().rename(columns={\"단지코드\":\"code\"})"
   ]
  },
  {
   "cell_type": "code",
   "execution_count": null,
   "metadata": {
    "execution": {
     "iopub.execute_input": "2021-07-22T13:46:40.090113Z",
     "iopub.status.busy": "2021-07-22T13:46:40.089688Z",
     "iopub.status.idle": "2021-07-22T13:46:40.137157Z",
     "shell.execute_reply": "2021-07-22T13:46:40.136127Z",
     "shell.execute_reply.started": "2021-07-22T13:46:40.090070Z"
    }
   },
   "outputs": [],
   "source": [
    "sub = pd.read_csv(\"../input/car-car/sample_submission.csv\")\n",
    "sub = pd.merge(sub, a , on = \"code\", how = \"left\")\n",
    "sub = sub.drop(columns = \"num\")\n",
    "sub.columns = [\"code\",\"num\"]\n",
    "sub"
   ]
  },
  {
   "cell_type": "code",
   "execution_count": null,
   "metadata": {
    "execution": {
     "iopub.execute_input": "2021-07-22T13:48:10.862856Z",
     "iopub.status.busy": "2021-07-22T13:48:10.862473Z",
     "iopub.status.idle": "2021-07-22T13:48:10.869245Z",
     "shell.execute_reply": "2021-07-22T13:48:10.868251Z",
     "shell.execute_reply.started": "2021-07-22T13:48:10.862811Z"
    }
   },
   "outputs": [],
   "source": [
    "sub.to_csv(\"sub0722_2.csv\",index=False)"
   ]
  }
 ],
 "metadata": {
  "kernelspec": {
   "display_name": "Python 3",
   "language": "python",
   "name": "python3"
  },
  "language_info": {
   "codemirror_mode": {
    "name": "ipython",
    "version": 3
   },
   "file_extension": ".py",
   "mimetype": "text/x-python",
   "name": "python",
   "nbconvert_exporter": "python",
   "pygments_lexer": "ipython3",
   "version": "3.7.0"
  }
 },
 "nbformat": 4,
 "nbformat_minor": 4
}
